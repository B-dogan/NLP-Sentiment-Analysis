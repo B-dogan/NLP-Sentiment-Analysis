{
 "cells": [
  {
   "cell_type": "markdown",
   "metadata": {
    "id": "YCgHlyCtyaZ0"
   },
   "source": [
    "___\n",
    "\n",
    "<p style=\"text-align: center;\"><img src=\"https://docs.google.com/uc?id=1lY0Uj5R04yMY3-ZppPWxqCr5pvBLYPnV\" class=\"img-fluid\" alt=\"CLRSWY\"></p>\n",
    "\n",
    "___"
   ]
  },
  {
   "cell_type": "markdown",
   "metadata": {
    "id": "efAoxo_nyaaA"
   },
   "source": [
    "# WELCOME!"
   ]
  },
  {
   "cell_type": "markdown",
   "metadata": {
    "id": "ussoVSxXyaaC"
   },
   "source": [
    "Welcome to the \"***Sentiment Analysis and Classification Project***\" project, the first and only project of the ***Natural Language Processing (NLP)*** course.\n",
    "\n",
    "This analysis will focus on using Natural Language techniques to find broad trends in the written thoughts of the customers. \n",
    "The goal in this project is to predict whether customers recommend the product they purchased using the information in their review text.\n",
    "\n",
    "One of the challenges in this project is to extract useful information from the *Review Text* variable using text mining techniques. The other challenge is that you need to convert text files into numeric feature vectors to run machine learning algorithms.\n",
    "\n",
    "At the end of this project, you will learn how to build sentiment classification models using Machine Learning algorithms (***Logistic Regression, Naive Bayes, Support Vector Machine, Random Forest*** and ***Ada Boosting***), **Deep Learning algorithms** and **BERT algorithm**.\n",
    "\n",
    "Before diving into the project, please take a look at the Determines and Tasks.\n",
    "\n",
    "- ***NOTE:*** *This tutorial assumes that you already know the basics of coding in Python and are familiar with the theory behind the algorithms mentioned above as well as NLP techniques.*\n",
    "\n"
   ]
  },
  {
   "cell_type": "markdown",
   "metadata": {
    "id": "iDMyWVZKyaaF"
   },
   "source": [
    "---\n",
    "---\n"
   ]
  },
  {
   "cell_type": "markdown",
   "metadata": {
    "id": "nZoVuOBgyaaG"
   },
   "source": [
    "# #Determines\n",
    "The data is a collection of 22641 Rows and 10 column variables. Each row includes a written comment as well as additional customer information. \n",
    "Also each row corresponds to a customer review, and includes the variables:\n",
    "\n",
    "\n",
    "**Feature Information:**\n",
    "\n",
    "**Clothing ID:** Integer Categorical variable that refers to the specific piece being reviewed.\n",
    "\n",
    "**Age:** Positive Integer variable of the reviewers age.\n",
    "\n",
    "**Title:** String variable for the title of the review.\n",
    "\n",
    "**Review Text:** String variable for the review body.\n",
    "\n",
    "**Rating:** Positive Ordinal Integer variable for the product score granted by the customer from 1 Worst, to 5 Best.\n",
    "\n",
    "**Recommended IND:** Binary variable stating where the customer recommends the product where 1 is recommended, 0 is not recommended.\n",
    "\n",
    "**Positive Feedback Count:** Positive Integer documenting the number of other customers who found this review positive.\n",
    "\n",
    "**Division Name:** Categorical name of the product high level division.\n",
    "\n",
    "**Department Name:** Categorical name of the product department name.\n",
    "\n",
    "**Class Name:** Categorical name of the product class name.\n",
    "\n",
    "---\n",
    "\n",
    "The basic goal in this project is to predict whether customers recommend the product they purchased using the information in their *Review Text*.\n",
    "Especially, it should be noted that the expectation in this project is to use only the \"Review Text\" variable and neglect the other ones. \n",
    "Of course, if you want, you can work on other variables individually.\n",
    "\n",
    "Project Structure is separated in five tasks: ***EDA, Feature Selection and Data Cleaning , Text Mining, Word Cloud*** and ***Sentiment Classification with Machine Learning, Deep Learning and BERT model***.\n",
    "\n",
    "Classically, you can start to know the data after doing the import and load operations. \n",
    "You need to do missing value detection for Review Text, which is the only variable you need to care about. You can drop other variables.\n",
    "\n",
    "You will need to apply ***noise removal*** and ***lexicon normalization*** processes by using the capabilities of the ***nltk*** library to the data set that is ready for text mining.\n",
    "\n",
    "Afterwards, you will implement ***Word Cloud*** as a visual analysis of word repetition.\n",
    "\n",
    "Finally, You will build models with five different algorithms and compare their performance. Thus, you will determine the algorithm that makes the most accurate emotion estimation by using the information obtained from the * Review Text * variable.\n",
    "\n",
    "\n",
    "\n",
    "\n"
   ]
  },
  {
   "cell_type": "markdown",
   "metadata": {
    "id": "k1eKT-CuyaaJ"
   },
   "source": [
    "---\n",
    "---\n"
   ]
  },
  {
   "cell_type": "markdown",
   "metadata": {
    "id": "os0DEWrcyaaK"
   },
   "source": [
    "# #Tasks\n",
    "\n",
    "#### 1. Exploratory Data Analysis\n",
    "\n",
    "- Import Modules, Load Discover the Data\n",
    "\n",
    "#### 2. Feature Selection and Data Cleaning\n",
    "\n",
    "- Feature Selection and Rename Column Name\n",
    "- Missing Value Detection\n",
    "\n",
    "#### 3. Text Mining\n",
    "\n",
    "- Tokenization\n",
    "- Noise Removal\n",
    "- Lexicon Normalization\n",
    "\n",
    "#### 4. WordCloud - Repetition of Words\n",
    "\n",
    "- Detect Reviews\n",
    "- Collect Words \n",
    "- Create Word Cloud \n",
    "\n",
    "\n",
    "#### 5. Sentiment Classification with Machine Learning, Deep Learning and BERT Model\n",
    "\n",
    "- Train - Test Split\n",
    "- Vectorization\n",
    "- TF-IDF\n",
    "- Logistic Regression\n",
    "- Naive Bayes\n",
    "- Support Vector Machine\n",
    "- Random Forest\n",
    "- AdaBoost\n",
    "- Deep Learning Model\n",
    "- BERT Model\n",
    "- Model Comparison"
   ]
  },
  {
   "cell_type": "markdown",
   "metadata": {
    "id": "80ATtXzEyaaM"
   },
   "source": [
    "---\n",
    "---\n"
   ]
  },
  {
   "cell_type": "markdown",
   "metadata": {
    "id": "HOkP9vyYCV31"
   },
   "source": [
    "# Sentiment analysis of women's clothes reviews\n",
    "\n",
    "\n",
    "In this project we used sentiment analysis to determined whether the product is recommended or not. We used different machine learning algorithms to get more accurate predictions. The following classification algorithms have been used: ML algorithms(Logistic Regression, Naive Bayes, Support Vector Machine (SVM), Random Forest and Ada Boosting), Deep learning algorithm and BERT algorithm. The dataset comes from Woman Clothing Review that can be find at (https://www.kaggle.com/nicapotato/womens-ecommerce-clothing-reviews. \n"
   ]
  },
  {
   "cell_type": "markdown",
   "metadata": {
    "id": "YkSHQgIGyaaP"
   },
   "source": [
    "## 1. Exploratory Data Analysis"
   ]
  },
  {
   "cell_type": "markdown",
   "metadata": {
    "id": "FXzFEeYkCV32"
   },
   "source": [
    "### Import Libraries, Load and Discover the Data"
   ]
  },
  {
   "cell_type": "code",
   "execution_count": 355,
   "metadata": {
    "id": "xNQnqxE7yaaR"
   },
   "outputs": [],
   "source": [
    "import numpy as np\n",
    "import pandas as pd\n",
    "import seaborn as sns\n",
    "import matplotlib.pyplot as plt\n",
    "import nltk\n",
    "from nltk.tokenize import sent_tokenize, word_tokenize\n",
    "from nltk.corpus import stopwords\n",
    "from nltk.stem import WordNetLemmatizer\n",
    "from nltk.stem import PorterStemmer\n",
    "import warnings\n",
    "warnings.filterwarnings(\"ignore\")\n",
    "plt.rcParams[\"figure.figsize\"] = (10,6)\n",
    "pd.set_option('display.max_columns', 50)   "
   ]
  },
  {
   "cell_type": "code",
   "execution_count": 356,
   "metadata": {},
   "outputs": [
    {
     "name": "stderr",
     "output_type": "stream",
     "text": [
      "[nltk_data] Downloading package punkt to\n",
      "[nltk_data]     C:\\Users\\BİRKAN\\AppData\\Roaming\\nltk_data...\n",
      "[nltk_data]   Package punkt is already up-to-date!\n",
      "[nltk_data] Downloading package stopwords to\n",
      "[nltk_data]     C:\\Users\\BİRKAN\\AppData\\Roaming\\nltk_data...\n",
      "[nltk_data]   Package stopwords is already up-to-date!\n",
      "[nltk_data] Downloading package wordnet to\n",
      "[nltk_data]     C:\\Users\\BİRKAN\\AppData\\Roaming\\nltk_data...\n",
      "[nltk_data]   Package wordnet is already up-to-date!\n",
      "[nltk_data] Downloading package omw-1.4 to\n",
      "[nltk_data]     C:\\Users\\BİRKAN\\AppData\\Roaming\\nltk_data...\n",
      "[nltk_data]   Package omw-1.4 is already up-to-date!\n"
     ]
    },
    {
     "data": {
      "text/plain": [
       "True"
      ]
     },
     "execution_count": 356,
     "metadata": {},
     "output_type": "execute_result"
    }
   ],
   "source": [
    "nltk.download('punkt')\n",
    "nltk.download('stopwords')\n",
    "nltk.download('wordnet')\n",
    "nltk.download('omw-1.4')"
   ]
  },
  {
   "cell_type": "code",
   "execution_count": 357,
   "metadata": {
    "id": "j9UnDZTfyaaT"
   },
   "outputs": [
    {
     "data": {
      "text/html": [
       "<div>\n",
       "<style scoped>\n",
       "    .dataframe tbody tr th:only-of-type {\n",
       "        vertical-align: middle;\n",
       "    }\n",
       "\n",
       "    .dataframe tbody tr th {\n",
       "        vertical-align: top;\n",
       "    }\n",
       "\n",
       "    .dataframe thead th {\n",
       "        text-align: right;\n",
       "    }\n",
       "</style>\n",
       "<table border=\"1\" class=\"dataframe\">\n",
       "  <thead>\n",
       "    <tr style=\"text-align: right;\">\n",
       "      <th></th>\n",
       "      <th>Clothing ID</th>\n",
       "      <th>Age</th>\n",
       "      <th>Title</th>\n",
       "      <th>Review Text</th>\n",
       "      <th>Rating</th>\n",
       "      <th>Recommended IND</th>\n",
       "      <th>Positive Feedback Count</th>\n",
       "      <th>Division Name</th>\n",
       "      <th>Department Name</th>\n",
       "      <th>Class Name</th>\n",
       "    </tr>\n",
       "  </thead>\n",
       "  <tbody>\n",
       "    <tr>\n",
       "      <th>0</th>\n",
       "      <td>767</td>\n",
       "      <td>33</td>\n",
       "      <td>NaN</td>\n",
       "      <td>Absolutely wonderful - silky and sexy and comf...</td>\n",
       "      <td>4</td>\n",
       "      <td>1</td>\n",
       "      <td>0</td>\n",
       "      <td>Initmates</td>\n",
       "      <td>Intimate</td>\n",
       "      <td>Intimates</td>\n",
       "    </tr>\n",
       "    <tr>\n",
       "      <th>1</th>\n",
       "      <td>1080</td>\n",
       "      <td>34</td>\n",
       "      <td>NaN</td>\n",
       "      <td>Love this dress!  it's sooo pretty.  i happene...</td>\n",
       "      <td>5</td>\n",
       "      <td>1</td>\n",
       "      <td>4</td>\n",
       "      <td>General</td>\n",
       "      <td>Dresses</td>\n",
       "      <td>Dresses</td>\n",
       "    </tr>\n",
       "    <tr>\n",
       "      <th>2</th>\n",
       "      <td>1077</td>\n",
       "      <td>60</td>\n",
       "      <td>Some major design flaws</td>\n",
       "      <td>I had such high hopes for this dress and reall...</td>\n",
       "      <td>3</td>\n",
       "      <td>0</td>\n",
       "      <td>0</td>\n",
       "      <td>General</td>\n",
       "      <td>Dresses</td>\n",
       "      <td>Dresses</td>\n",
       "    </tr>\n",
       "    <tr>\n",
       "      <th>3</th>\n",
       "      <td>1049</td>\n",
       "      <td>50</td>\n",
       "      <td>My favorite buy!</td>\n",
       "      <td>I love, love, love this jumpsuit. it's fun, fl...</td>\n",
       "      <td>5</td>\n",
       "      <td>1</td>\n",
       "      <td>0</td>\n",
       "      <td>General Petite</td>\n",
       "      <td>Bottoms</td>\n",
       "      <td>Pants</td>\n",
       "    </tr>\n",
       "    <tr>\n",
       "      <th>4</th>\n",
       "      <td>847</td>\n",
       "      <td>47</td>\n",
       "      <td>Flattering shirt</td>\n",
       "      <td>This shirt is very flattering to all due to th...</td>\n",
       "      <td>5</td>\n",
       "      <td>1</td>\n",
       "      <td>6</td>\n",
       "      <td>General</td>\n",
       "      <td>Tops</td>\n",
       "      <td>Blouses</td>\n",
       "    </tr>\n",
       "    <tr>\n",
       "      <th>...</th>\n",
       "      <td>...</td>\n",
       "      <td>...</td>\n",
       "      <td>...</td>\n",
       "      <td>...</td>\n",
       "      <td>...</td>\n",
       "      <td>...</td>\n",
       "      <td>...</td>\n",
       "      <td>...</td>\n",
       "      <td>...</td>\n",
       "      <td>...</td>\n",
       "    </tr>\n",
       "    <tr>\n",
       "      <th>23481</th>\n",
       "      <td>1104</td>\n",
       "      <td>34</td>\n",
       "      <td>Great dress for many occasions</td>\n",
       "      <td>I was very happy to snag this dress at such a ...</td>\n",
       "      <td>5</td>\n",
       "      <td>1</td>\n",
       "      <td>0</td>\n",
       "      <td>General Petite</td>\n",
       "      <td>Dresses</td>\n",
       "      <td>Dresses</td>\n",
       "    </tr>\n",
       "    <tr>\n",
       "      <th>23482</th>\n",
       "      <td>862</td>\n",
       "      <td>48</td>\n",
       "      <td>Wish it was made of cotton</td>\n",
       "      <td>It reminds me of maternity clothes. soft, stre...</td>\n",
       "      <td>3</td>\n",
       "      <td>1</td>\n",
       "      <td>0</td>\n",
       "      <td>General Petite</td>\n",
       "      <td>Tops</td>\n",
       "      <td>Knits</td>\n",
       "    </tr>\n",
       "    <tr>\n",
       "      <th>23483</th>\n",
       "      <td>1104</td>\n",
       "      <td>31</td>\n",
       "      <td>Cute, but see through</td>\n",
       "      <td>This fit well, but the top was very see throug...</td>\n",
       "      <td>3</td>\n",
       "      <td>0</td>\n",
       "      <td>1</td>\n",
       "      <td>General Petite</td>\n",
       "      <td>Dresses</td>\n",
       "      <td>Dresses</td>\n",
       "    </tr>\n",
       "    <tr>\n",
       "      <th>23484</th>\n",
       "      <td>1084</td>\n",
       "      <td>28</td>\n",
       "      <td>Very cute dress, perfect for summer parties an...</td>\n",
       "      <td>I bought this dress for a wedding i have this ...</td>\n",
       "      <td>3</td>\n",
       "      <td>1</td>\n",
       "      <td>2</td>\n",
       "      <td>General</td>\n",
       "      <td>Dresses</td>\n",
       "      <td>Dresses</td>\n",
       "    </tr>\n",
       "    <tr>\n",
       "      <th>23485</th>\n",
       "      <td>1104</td>\n",
       "      <td>52</td>\n",
       "      <td>Please make more like this one!</td>\n",
       "      <td>This dress in a lovely platinum is feminine an...</td>\n",
       "      <td>5</td>\n",
       "      <td>1</td>\n",
       "      <td>22</td>\n",
       "      <td>General Petite</td>\n",
       "      <td>Dresses</td>\n",
       "      <td>Dresses</td>\n",
       "    </tr>\n",
       "  </tbody>\n",
       "</table>\n",
       "<p>23486 rows × 10 columns</p>\n",
       "</div>"
      ],
      "text/plain": [
       "       Clothing ID  Age                                              Title  \\\n",
       "0              767   33                                                NaN   \n",
       "1             1080   34                                                NaN   \n",
       "2             1077   60                            Some major design flaws   \n",
       "3             1049   50                                   My favorite buy!   \n",
       "4              847   47                                   Flattering shirt   \n",
       "...            ...  ...                                                ...   \n",
       "23481         1104   34                     Great dress for many occasions   \n",
       "23482          862   48                         Wish it was made of cotton   \n",
       "23483         1104   31                              Cute, but see through   \n",
       "23484         1084   28  Very cute dress, perfect for summer parties an...   \n",
       "23485         1104   52                    Please make more like this one!   \n",
       "\n",
       "                                             Review Text  Rating  \\\n",
       "0      Absolutely wonderful - silky and sexy and comf...       4   \n",
       "1      Love this dress!  it's sooo pretty.  i happene...       5   \n",
       "2      I had such high hopes for this dress and reall...       3   \n",
       "3      I love, love, love this jumpsuit. it's fun, fl...       5   \n",
       "4      This shirt is very flattering to all due to th...       5   \n",
       "...                                                  ...     ...   \n",
       "23481  I was very happy to snag this dress at such a ...       5   \n",
       "23482  It reminds me of maternity clothes. soft, stre...       3   \n",
       "23483  This fit well, but the top was very see throug...       3   \n",
       "23484  I bought this dress for a wedding i have this ...       3   \n",
       "23485  This dress in a lovely platinum is feminine an...       5   \n",
       "\n",
       "       Recommended IND  Positive Feedback Count   Division Name  \\\n",
       "0                    1                        0       Initmates   \n",
       "1                    1                        4         General   \n",
       "2                    0                        0         General   \n",
       "3                    1                        0  General Petite   \n",
       "4                    1                        6         General   \n",
       "...                ...                      ...             ...   \n",
       "23481                1                        0  General Petite   \n",
       "23482                1                        0  General Petite   \n",
       "23483                0                        1  General Petite   \n",
       "23484                1                        2         General   \n",
       "23485                1                       22  General Petite   \n",
       "\n",
       "      Department Name Class Name  \n",
       "0            Intimate  Intimates  \n",
       "1             Dresses    Dresses  \n",
       "2             Dresses    Dresses  \n",
       "3             Bottoms      Pants  \n",
       "4                Tops    Blouses  \n",
       "...               ...        ...  \n",
       "23481         Dresses    Dresses  \n",
       "23482            Tops      Knits  \n",
       "23483         Dresses    Dresses  \n",
       "23484         Dresses    Dresses  \n",
       "23485         Dresses    Dresses  \n",
       "\n",
       "[23486 rows x 10 columns]"
      ]
     },
     "execution_count": 357,
     "metadata": {},
     "output_type": "execute_result"
    }
   ],
   "source": [
    "df = pd.read_csv(\"Womens Clothing E-Commerce Reviews.csv\",index_col=0)\n",
    "df"
   ]
  },
  {
   "cell_type": "code",
   "execution_count": 358,
   "metadata": {},
   "outputs": [],
   "source": [
    "# 1: tavsiye ediyorum \n",
    "# 0 : tavsiye etmiyorum.BUNU DEĞİŞTİRMEMİZ GEREKİYOR."
   ]
  },
  {
   "cell_type": "code",
   "execution_count": 359,
   "metadata": {},
   "outputs": [],
   "source": [
    "df[\"Recommended IND\"] = df[\"Recommended IND\"].map({1:0, 0:1})"
   ]
  },
  {
   "cell_type": "markdown",
   "metadata": {
    "id": "T54GVJwICV36"
   },
   "source": [
    "### Data Wrangling"
   ]
  },
  {
   "cell_type": "code",
   "execution_count": 360,
   "metadata": {
    "id": "x7ZxywoyyaaW"
   },
   "outputs": [
    {
     "data": {
      "image/png": "[encoded data removed]",
      "text/plain": [
       "<Figure size 720x432 with 1 Axes>"
      ]
     },
     "metadata": {
      "needs_background": "light"
     },
     "output_type": "display_data"
    }
   ],
   "source": [
    "ax = sns.countplot(data = df, x =\"Rating\", hue = \"Recommended IND\")\n",
    "for p in ax.containers:\n",
    "    ax.bar_label(p)"
   ]
  },
  {
   "cell_type": "markdown",
   "metadata": {},
   "source": [
    "### ürüne 5 yılıdz verenlerin sadece 25 kişisi ürünü tavsiye etmiyor 13K kişi tavsiye ediyor.\n",
    "### ürüne 4 yıldız verenlerin de büyük çoğunluğu ürünü tavsiye ediyor.\n",
    "### AMA 3 yıldız ve altında yıldız verenlerin ise büyük çoğunluğu ürünü tavsiye ETMİYOR.\n"
   ]
  },
  {
   "cell_type": "code",
   "execution_count": 361,
   "metadata": {},
   "outputs": [
    {
     "data": {
      "image/png": "[encoded data removed]",
      "text/plain": [
       "<Figure size 720x432 with 1 Axes>"
      ]
     },
     "metadata": {
      "needs_background": "light"
     },
     "output_type": "display_data"
    }
   ],
   "source": [
    "ax = sns.countplot(data = df, x =\"Rating\", hue = \"Recommended IND\")\n",
    "for p in ax.containers:\n",
    "    ax.bar_label(p)"
   ]
  },
  {
   "cell_type": "code",
   "execution_count": 362,
   "metadata": {},
   "outputs": [
    {
     "data": {
      "text/plain": [
       "5    13131\n",
       "4     5077\n",
       "3     2871\n",
       "2     1565\n",
       "1      842\n",
       "Name: Rating, dtype: int64"
      ]
     },
     "execution_count": 362,
     "metadata": {},
     "output_type": "execute_result"
    }
   ],
   "source": [
    "df[\"Rating\"].value_counts()      "
   ]
  },
  {
   "cell_type": "code",
   "execution_count": 363,
   "metadata": {},
   "outputs": [
    {
     "data": {
      "image/png": "[encoded data removed]",
      "text/plain": [
       "<Figure size 720x432 with 1 Axes>"
      ]
     },
     "metadata": {
      "needs_background": "light"
     },
     "output_type": "display_data"
    }
   ],
   "source": [
    "ax = sns.countplot(data =df, x = \"Rating\")\n",
    "ax.bar_label(ax.containers[0]);"
   ]
  },
  {
   "cell_type": "code",
   "execution_count": 364,
   "metadata": {},
   "outputs": [],
   "source": [
    "## 5 yıldız verenler çoğunlukta"
   ]
  },
  {
   "cell_type": "markdown",
   "metadata": {
    "id": "AQuhTpcwCV38"
   },
   "source": [
    "#### Check Proportion of Target Class Variable:"
   ]
  },
  {
   "cell_type": "code",
   "execution_count": 365,
   "metadata": {},
   "outputs": [
    {
     "data": {
      "image/png": "[encoded data removed]",
      "text/plain": [
       "<Figure size 720x432 with 1 Axes>"
      ]
     },
     "metadata": {
      "needs_background": "light"
     },
     "output_type": "display_data"
    }
   ],
   "source": [
    "ax = sns.countplot(data =df, x =\"Recommended IND\")\n",
    "ax.bar_label(ax.containers[0])\n",
    "plt.xticks(rotation =90);"
   ]
  },
  {
   "cell_type": "code",
   "execution_count": 366,
   "metadata": {},
   "outputs": [
    {
     "data": {
      "text/plain": [
       "0    19314\n",
       "1     4172\n",
       "Name: Recommended IND, dtype: int64"
      ]
     },
     "execution_count": 366,
     "metadata": {},
     "output_type": "execute_result"
    }
   ],
   "source": [
    "df[\"Recommended IND\"].value_counts(dropna = False)"
   ]
  },
  {
   "cell_type": "markdown",
   "metadata": {},
   "source": [
    "## Aldıkları ürünü tavsiye edenler çoğunlukta ama bizim için önemli olan şu anda tavsiye etmeyenler bu hususa dikkat edelim."
   ]
  },
  {
   "cell_type": "markdown",
   "metadata": {
    "id": "0YXKZ5QgCV39"
   },
   "source": [
    "The target class variable is imbalanced, where \"Recommended\" values are more dominating then \"Not Recommendation\"."
   ]
  },
  {
   "cell_type": "markdown",
   "metadata": {},
   "source": [
    "## peki hangi kategorideki ürünler önerilmiyor  genelde ?"
   ]
  },
  {
   "cell_type": "code",
   "execution_count": 367,
   "metadata": {
    "id": "TX1Vq6KByaaZ"
   },
   "outputs": [
    {
     "data": {
      "text/plain": [
       "Tops        1935\n",
       "Dresses     1212\n",
       "Bottoms      565\n",
       "Intimate     260\n",
       "Jackets      169\n",
       "Trend         31\n",
       "Name: Department Name, dtype: int64"
      ]
     },
     "execution_count": 367,
     "metadata": {},
     "output_type": "execute_result"
    }
   ],
   "source": [
    "df[df[\"Recommended IND\"] == 1][\"Department Name\"].value_counts()"
   ]
  },
  {
   "cell_type": "code",
   "execution_count": 368,
   "metadata": {
    "id": "_wqgNNr1yaaZ"
   },
   "outputs": [
    {
     "data": {
      "text/plain": [
       "Dresses       1212\n",
       "Knits          883\n",
       "Blouses        588\n",
       "Sweaters       285\n",
       "Pants          232\n",
       "Fine gauge     179\n",
       "Skirts         146\n",
       "Jeans          136\n",
       "Jackets        109\n",
       "Lounge          97\n",
       "Swim            68\n",
       "Outerwear       60\n",
       "Shorts          51\n",
       "Sleep           33\n",
       "Trend           31\n",
       "Legwear         23\n",
       "Intimates       22\n",
       "Layering        17\n",
       "Name: Class Name, dtype: int64"
      ]
     },
     "execution_count": 368,
     "metadata": {},
     "output_type": "execute_result"
    }
   ],
   "source": [
    "df[df[\"Recommended IND\"] == 1][\"Class Name\"].value_counts()"
   ]
  },
  {
   "cell_type": "markdown",
   "metadata": {
    "id": "cPEVV0JGCV37"
   },
   "source": [
    "## 2. Feature Selection and Data Cleaning\n",
    "\n",
    "From now on, the DataFrame you will work with should contain two columns: **\"Review Text\"** and **\"Recommended IND\"**. You can do the missing value detection operations from now on. You can also rename the column names if you want.\n",
    "\n"
   ]
  },
  {
   "cell_type": "markdown",
   "metadata": {
    "id": "L06bPXRDyaaa"
   },
   "source": [
    "### Feature Selection and Rename Column Name"
   ]
  },
  {
   "cell_type": "code",
   "execution_count": 369,
   "metadata": {
    "id": "odShfMvTyaab"
   },
   "outputs": [
    {
     "data": {
      "text/html": [
       "<div>\n",
       "<style scoped>\n",
       "    .dataframe tbody tr th:only-of-type {\n",
       "        vertical-align: middle;\n",
       "    }\n",
       "\n",
       "    .dataframe tbody tr th {\n",
       "        vertical-align: top;\n",
       "    }\n",
       "\n",
       "    .dataframe thead th {\n",
       "        text-align: right;\n",
       "    }\n",
       "</style>\n",
       "<table border=\"1\" class=\"dataframe\">\n",
       "  <thead>\n",
       "    <tr style=\"text-align: right;\">\n",
       "      <th></th>\n",
       "      <th>Review Text</th>\n",
       "      <th>Recommended IND</th>\n",
       "    </tr>\n",
       "  </thead>\n",
       "  <tbody>\n",
       "    <tr>\n",
       "      <th>0</th>\n",
       "      <td>Absolutely wonderful - silky and sexy and comf...</td>\n",
       "      <td>0</td>\n",
       "    </tr>\n",
       "    <tr>\n",
       "      <th>1</th>\n",
       "      <td>Love this dress!  it's sooo pretty.  i happene...</td>\n",
       "      <td>0</td>\n",
       "    </tr>\n",
       "    <tr>\n",
       "      <th>2</th>\n",
       "      <td>I had such high hopes for this dress and reall...</td>\n",
       "      <td>1</td>\n",
       "    </tr>\n",
       "    <tr>\n",
       "      <th>3</th>\n",
       "      <td>I love, love, love this jumpsuit. it's fun, fl...</td>\n",
       "      <td>0</td>\n",
       "    </tr>\n",
       "    <tr>\n",
       "      <th>4</th>\n",
       "      <td>This shirt is very flattering to all due to th...</td>\n",
       "      <td>0</td>\n",
       "    </tr>\n",
       "  </tbody>\n",
       "</table>\n",
       "</div>"
      ],
      "text/plain": [
       "                                         Review Text  Recommended IND\n",
       "0  Absolutely wonderful - silky and sexy and comf...                0\n",
       "1  Love this dress!  it's sooo pretty.  i happene...                0\n",
       "2  I had such high hopes for this dress and reall...                1\n",
       "3  I love, love, love this jumpsuit. it's fun, fl...                0\n",
       "4  This shirt is very flattering to all due to th...                0"
      ]
     },
     "execution_count": 369,
     "metadata": {},
     "output_type": "execute_result"
    }
   ],
   "source": [
    "df = df[[\"Review Text\",\"Recommended IND\"]]\n",
    "df.head()"
   ]
  },
  {
   "cell_type": "code",
   "execution_count": 370,
   "metadata": {
    "id": "UzUwT6Alyaab"
   },
   "outputs": [],
   "source": [
    "df.rename(columns={\"Review Text\":\"Text\", \"Recommended IND\":\"Target_label\"}, inplace=True)"
   ]
  },
  {
   "cell_type": "code",
   "execution_count": 371,
   "metadata": {},
   "outputs": [
    {
     "data": {
      "text/html": [
       "<div>\n",
       "<style scoped>\n",
       "    .dataframe tbody tr th:only-of-type {\n",
       "        vertical-align: middle;\n",
       "    }\n",
       "\n",
       "    .dataframe tbody tr th {\n",
       "        vertical-align: top;\n",
       "    }\n",
       "\n",
       "    .dataframe thead th {\n",
       "        text-align: right;\n",
       "    }\n",
       "</style>\n",
       "<table border=\"1\" class=\"dataframe\">\n",
       "  <thead>\n",
       "    <tr style=\"text-align: right;\">\n",
       "      <th></th>\n",
       "      <th>Text</th>\n",
       "      <th>Target_label</th>\n",
       "    </tr>\n",
       "  </thead>\n",
       "  <tbody>\n",
       "    <tr>\n",
       "      <th>0</th>\n",
       "      <td>Absolutely wonderful - silky and sexy and comf...</td>\n",
       "      <td>0</td>\n",
       "    </tr>\n",
       "    <tr>\n",
       "      <th>1</th>\n",
       "      <td>Love this dress!  it's sooo pretty.  i happene...</td>\n",
       "      <td>0</td>\n",
       "    </tr>\n",
       "    <tr>\n",
       "      <th>2</th>\n",
       "      <td>I had such high hopes for this dress and reall...</td>\n",
       "      <td>1</td>\n",
       "    </tr>\n",
       "    <tr>\n",
       "      <th>3</th>\n",
       "      <td>I love, love, love this jumpsuit. it's fun, fl...</td>\n",
       "      <td>0</td>\n",
       "    </tr>\n",
       "    <tr>\n",
       "      <th>4</th>\n",
       "      <td>This shirt is very flattering to all due to th...</td>\n",
       "      <td>0</td>\n",
       "    </tr>\n",
       "  </tbody>\n",
       "</table>\n",
       "</div>"
      ],
      "text/plain": [
       "                                                Text  Target_label\n",
       "0  Absolutely wonderful - silky and sexy and comf...             0\n",
       "1  Love this dress!  it's sooo pretty.  i happene...             0\n",
       "2  I had such high hopes for this dress and reall...             1\n",
       "3  I love, love, love this jumpsuit. it's fun, fl...             0\n",
       "4  This shirt is very flattering to all due to th...             0"
      ]
     },
     "execution_count": 371,
     "metadata": {},
     "output_type": "execute_result"
    }
   ],
   "source": [
    "df.head()"
   ]
  },
  {
   "cell_type": "markdown",
   "metadata": {
    "id": "vl2h73vYCV38"
   },
   "source": [
    "### Missing Value Detection"
   ]
  },
  {
   "cell_type": "code",
   "execution_count": 372,
   "metadata": {
    "id": "5po56Cqmyaad"
   },
   "outputs": [
    {
     "data": {
      "text/plain": [
       "Text            845\n",
       "Target_label      0\n",
       "dtype: int64"
      ]
     },
     "execution_count": 372,
     "metadata": {},
     "output_type": "execute_result"
    }
   ],
   "source": [
    "df.isnull().sum()"
   ]
  },
  {
   "cell_type": "code",
   "execution_count": 373,
   "metadata": {
    "id": "tDw7hf8qyaad"
   },
   "outputs": [
    {
     "data": {
      "text/plain": [
       "845"
      ]
     },
     "execution_count": 373,
     "metadata": {},
     "output_type": "execute_result"
    }
   ],
   "source": [
    "df.shape[0] - df.dropna().shape[0]"
   ]
  },
  {
   "cell_type": "code",
   "execution_count": 374,
   "metadata": {},
   "outputs": [
    {
     "data": {
      "text/html": [
       "<div>\n",
       "<style scoped>\n",
       "    .dataframe tbody tr th:only-of-type {\n",
       "        vertical-align: middle;\n",
       "    }\n",
       "\n",
       "    .dataframe tbody tr th {\n",
       "        vertical-align: top;\n",
       "    }\n",
       "\n",
       "    .dataframe thead th {\n",
       "        text-align: right;\n",
       "    }\n",
       "</style>\n",
       "<table border=\"1\" class=\"dataframe\">\n",
       "  <thead>\n",
       "    <tr style=\"text-align: right;\">\n",
       "      <th></th>\n",
       "      <th>Text</th>\n",
       "      <th>Target_label</th>\n",
       "    </tr>\n",
       "  </thead>\n",
       "  <tbody>\n",
       "    <tr>\n",
       "      <th>0</th>\n",
       "      <td>Absolutely wonderful - silky and sexy and comf...</td>\n",
       "      <td>0</td>\n",
       "    </tr>\n",
       "    <tr>\n",
       "      <th>1</th>\n",
       "      <td>Love this dress!  it's sooo pretty.  i happene...</td>\n",
       "      <td>0</td>\n",
       "    </tr>\n",
       "    <tr>\n",
       "      <th>2</th>\n",
       "      <td>I had such high hopes for this dress and reall...</td>\n",
       "      <td>1</td>\n",
       "    </tr>\n",
       "    <tr>\n",
       "      <th>3</th>\n",
       "      <td>I love, love, love this jumpsuit. it's fun, fl...</td>\n",
       "      <td>0</td>\n",
       "    </tr>\n",
       "    <tr>\n",
       "      <th>4</th>\n",
       "      <td>This shirt is very flattering to all due to th...</td>\n",
       "      <td>0</td>\n",
       "    </tr>\n",
       "    <tr>\n",
       "      <th>...</th>\n",
       "      <td>...</td>\n",
       "      <td>...</td>\n",
       "    </tr>\n",
       "    <tr>\n",
       "      <th>23481</th>\n",
       "      <td>I was very happy to snag this dress at such a ...</td>\n",
       "      <td>0</td>\n",
       "    </tr>\n",
       "    <tr>\n",
       "      <th>23482</th>\n",
       "      <td>It reminds me of maternity clothes. soft, stre...</td>\n",
       "      <td>0</td>\n",
       "    </tr>\n",
       "    <tr>\n",
       "      <th>23483</th>\n",
       "      <td>This fit well, but the top was very see throug...</td>\n",
       "      <td>1</td>\n",
       "    </tr>\n",
       "    <tr>\n",
       "      <th>23484</th>\n",
       "      <td>I bought this dress for a wedding i have this ...</td>\n",
       "      <td>0</td>\n",
       "    </tr>\n",
       "    <tr>\n",
       "      <th>23485</th>\n",
       "      <td>This dress in a lovely platinum is feminine an...</td>\n",
       "      <td>0</td>\n",
       "    </tr>\n",
       "  </tbody>\n",
       "</table>\n",
       "<p>22641 rows × 2 columns</p>\n",
       "</div>"
      ],
      "text/plain": [
       "                                                    Text  Target_label\n",
       "0      Absolutely wonderful - silky and sexy and comf...             0\n",
       "1      Love this dress!  it's sooo pretty.  i happene...             0\n",
       "2      I had such high hopes for this dress and reall...             1\n",
       "3      I love, love, love this jumpsuit. it's fun, fl...             0\n",
       "4      This shirt is very flattering to all due to th...             0\n",
       "...                                                  ...           ...\n",
       "23481  I was very happy to snag this dress at such a ...             0\n",
       "23482  It reminds me of maternity clothes. soft, stre...             0\n",
       "23483  This fit well, but the top was very see throug...             1\n",
       "23484  I bought this dress for a wedding i have this ...             0\n",
       "23485  This dress in a lovely platinum is feminine an...             0\n",
       "\n",
       "[22641 rows x 2 columns]"
      ]
     },
     "execution_count": 374,
     "metadata": {},
     "output_type": "execute_result"
    }
   ],
   "source": [
    "df.dropna(inplace = True)\n",
    "df"
   ]
  },
  {
   "cell_type": "code",
   "execution_count": 375,
   "metadata": {},
   "outputs": [
    {
     "data": {
      "text/plain": [
       "Text            0\n",
       "Target_label    0\n",
       "dtype: int64"
      ]
     },
     "execution_count": 375,
     "metadata": {},
     "output_type": "execute_result"
    }
   ],
   "source": [
    "df.isna().sum()"
   ]
  },
  {
   "cell_type": "markdown",
   "metadata": {
    "id": "w9qD9OwUyaae"
   },
   "source": [
    "---\n",
    "---\n"
   ]
  },
  {
   "cell_type": "markdown",
   "metadata": {
    "id": "WO_zLq2UCV39"
   },
   "source": [
    "## 3. Text Mining\n",
    "\n",
    "Text is the most unstructured form of all the available data, therefore various types of noise are present in it. This means that the data is not readily analyzable without any pre-processing. The entire process of cleaning and standardization of text, making it noise-free and ready for analysis is known as **text preprocessing**.\n",
    "\n",
    "The three key steps of text preprocessing:\n",
    "\n",
    "- **Tokenization:**\n",
    "This step is one of the top priorities when it comes to working on text mining. Tokenization is essentially splitting a phrase, sentence, paragraph, or an entire text document into smaller units, such as individual words or terms. Each of these smaller units are called tokens.\n",
    "\n",
    "- **Noise Removal:**\n",
    "Any piece of text which is not relevant to the context of the data and the end-output can be specified as the noise.\n",
    "For example – language stopwords (commonly used words of a language – is, am, the, of, in etc), URLs or links, upper and lower case differentiation, punctuations and industry specific words. This step deals with removal of all types of noisy entities present in the text.\n",
    "\n",
    "\n",
    "- **Lexicon Normalization:**\n",
    "Another type of textual noise is about the multiple representations exhibited by single word.\n",
    "For example – “play”, “player”, “played”, “plays” and “playing” are the different variations of the word – “play”. Though they mean different things, contextually they all are similar. This step converts all the disparities of a word into their normalized form (also known as lemma). \n",
    "There are two methods of lexicon normalisation; **[Stemming or Lemmatization](https://www.guru99.com/stemming-lemmatization-python-nltk.html)**. Lemmatization is recommended for this case, because Lemmatization as this will return the root form of each word (rather than just stripping suffixes, which is stemming).\n",
    "\n",
    "As the first step change text to tokens and convertion all of the words to lower case.  Next remove punctuation, bad characters, numbers and stop words. The second step is aimed to normalization them throught the Lemmatization method. \n",
    "\n",
    "\n",
    "***Note:*** *Use the functions of the ***[nltk Library](https://www.guru99.com/nltk-tutorial.html)*** for all the above operations.*\n",
    "\n"
   ]
  },
  {
   "cell_type": "markdown",
   "metadata": {
    "id": "vH7TYkFEyaaf"
   },
   "source": [
    "### Tokenization, Noise Removal, Lexicon Normalization"
   ]
  },
  {
   "cell_type": "code",
   "execution_count": 376,
   "metadata": {},
   "outputs": [],
   "source": [
    "df2 = df.copy()"
   ]
  },
  {
   "cell_type": "code",
   "execution_count": 377,
   "metadata": {
    "id": "9bbvWQE_yaah"
   },
   "outputs": [
    {
     "data": {
      "text/plain": [
       "array([\"I agree with the other two reviews that this shirt runs large, or something? ! i ordered an xs, my usual size, xs-s. the body of the shirt is very loose, the upper arms are a bit snug, and i don't have large arms. the shoulder seams are in a very strange place, but when you look at the model, it doesn't look so bad. with the shirt i received, and another reviewer, the seam was puffy, making for a strange look. in theory, the shirt should have worked, but didn't. i loved the pattern, not the fit.\",\n",
       "       'This is a great light weight tank. true to size, but size up if you prefer a baggier fit, size down for a closer fit. your preference for fit should be your guide. (i prefer a closer fit, so i choose a xs, i am a 6-8 in tops) the arm holes are slim and high so you are completely covered in all sizes. excellent drape, the twist in the front is just perfect! looks great with jeans, print joggers, and even wide leg pants. i imagine it would be fantastic with a pencil skirt - denim perhaps. hope it',\n",
       "       \"I love this shirt. i have it in black and purple. i found the fit tts and looks great casually with a scarf or dressed up with a nice necklace. you can't go wrong with a cute long sleeve shirt that is soft. i like the length goes just past my bottom in the back but not overwhelming.\\nit is more fitted than last years style.\",\n",
       "       'I usually size up with this brand. small was perfect for me at 135lbs. this top has a luxurious but casual feel and beautiful. i am obsessed and want to wear it everyday. it wears a little long and drapey but a little tight where it rolls up in the arms.',\n",
       "       'The color of this top is lovely. however, i felt the quality was lacking for the price. the fabric is thin and the top i tried on in the store had some loose threads already. fit was tts for me.',\n",
       "       'Beautiful dress! wanted something different. even bought the hat ! very flattering.',\n",
       "       'Love this print and fabric! its soft and comfy with adjustable straps. so pretty and feminine!',\n",
       "       \"The description doesn't indicate the metallic thread throughout the design. you cannot tell from the pix either. it's also a really strange design with the arm holes being almost the entire length of the sweater. can't decide if i want to keep it or return it.\",\n",
       "       \"Great jeans!!! i'm over 60 & it's difficult finding jeans. these fit like a glove, with just enough stretch & the twisted hem adds a bit of unexpected style. i liked them so much, i ordered another pair!\",\n",
       "       \"This is a very cute, casual sweater. i originally ordered a size medium but i had to send it back because it was way too large all over. i recently received the size small and i'm going to keep it. it is still a roomy fit but the overall design of the sweater is a relaxed fit. the color combination and texture of this sweater is lovely.\"],\n",
       "      dtype=object)"
      ]
     },
     "execution_count": 377,
     "metadata": {},
     "output_type": "execute_result"
    }
   ],
   "source": [
    "np.array(df2[\"Text\"].sample(10))"
   ]
  },
  {
   "cell_type": "code",
   "execution_count": 378,
   "metadata": {},
   "outputs": [],
   "source": [
    "stop_words = stopwords.words('english')\n",
    "\n",
    "for i in [\"not\", \"no\"]:\n",
    "        stop_words.remove(i)"
   ]
  },
  {
   "cell_type": "code",
   "execution_count": 379,
   "metadata": {},
   "outputs": [],
   "source": [
    "def cleaning(data):\n",
    "    \n",
    "    import re\n",
    "    \n",
    "    #1. Removing URLS\n",
    "    data = re.sub('http\\S+', '', data).strip()\n",
    "    data = re.sub('www\\S+', '', data).strip()\n",
    "\n",
    "    #2. Removing Tags\n",
    "    data = re.sub('#\\S+', '', data).strip()\n",
    "\n",
    "    #3. Removing Mentions\n",
    "    data = re.sub('@\\S+', '', data).strip()\n",
    "    \n",
    "    #4. Removing upper brackets to keep negative auxiliary verbs in text\n",
    "    data = data.replace(\"'\", \"\")\n",
    "    \n",
    "    #5. Tokenize\n",
    "    text_tokens = word_tokenize(data.lower())\n",
    "    \n",
    "    #6. Remove Puncs and number\n",
    "    tokens_without_punc = [w for w in text_tokens if w.isalpha()]\n",
    "    \n",
    "    #7. Removing Stopwords\n",
    "    tokens_without_sw = [t for t in tokens_without_punc if t not in stop_words]\n",
    "    \n",
    "    #8. lemma\n",
    "    text_cleaned = [WordNetLemmatizer().lemmatize(t) for t in tokens_without_sw]\n",
    "    \n",
    "    #joining\n",
    "    return \" \".join(text_cleaned)"
   ]
  },
  {
   "cell_type": "code",
   "execution_count": 380,
   "metadata": {},
   "outputs": [
    {
     "data": {
      "text/plain": [
       "0          absolutely wonderful silky sexy comfortable\n",
       "1    love dress sooo pretty happened find store im ...\n",
       "2    high hope dress really wanted work initially o...\n",
       "3    love love love jumpsuit fun flirty fabulous ev...\n",
       "4    shirt flattering due adjustable front tie perf...\n",
       "Name: Text, dtype: object"
      ]
     },
     "execution_count": 380,
     "metadata": {},
     "output_type": "execute_result"
    }
   ],
   "source": [
    "cleaning_text = df2[\"Text\"].apply(cleaning)\n",
    "cleaning_text.head()"
   ]
  },
  {
   "cell_type": "code",
   "execution_count": 381,
   "metadata": {},
   "outputs": [
    {
     "data": {
      "text/plain": [
       "array(['absolutely wonderful silky sexy comfortable',\n",
       "       'love dress sooo pretty happened find store im glad bc never would ordered online bc petite bought petite love length hit little knee would definitely true midi someone truly petite',\n",
       "       'high hope dress really wanted work initially ordered petite small usual size found outrageously small small fact could not zip reordered petite medium overall top half comfortable fit nicely bottom half tight layer several somewhat cheap net layer imo major design flaw net layer sewn directly zipper c',\n",
       "       ...,\n",
       "       'fit well top see never would worked im glad able try store didnt order online different fabric would great',\n",
       "       'bought dress wedding summer cute unfortunately fit isnt perfect medium fit waist perfectly way long big bust shoulder wanted spend money could get tailored felt like might not worth side note dress delivered nordstrom tag found much cheaper looking',\n",
       "       'dress lovely platinum feminine fit perfectly easy wear comfy highly recommend'],\n",
       "      dtype=object)"
      ]
     },
     "execution_count": 381,
     "metadata": {},
     "output_type": "execute_result"
    }
   ],
   "source": [
    "np.array(cleaning_text)"
   ]
  },
  {
   "cell_type": "markdown",
   "metadata": {
    "id": "_DTNRasaCV3-"
   },
   "source": [
    "## 4. WordCloud - Repetition of Words\n",
    "\n",
    "Now you'll create a Word Clouds for reviews, representing most common words in each target class.\n",
    "\n",
    "Word Cloud is a data visualization technique used for representing text data in which the size of each word indicates its frequency or importance. Significant textual data points can be highlighted using a word cloud.\n",
    "\n",
    "You are expected to create separate word clouds for positive and negative reviews. You can qualify a review as positive or negative, by looking at its recommended status. You may need to use capabilities of matplotlib for visualizations.\n",
    "\n",
    "You can follow the steps below:\n",
    "\n",
    "- Detect Reviews\n",
    "- Collect Words \n",
    "- Create Word Cloud \n"
   ]
  },
  {
   "cell_type": "markdown",
   "metadata": {
    "id": "IZoWiF7Lyaaj"
   },
   "source": [
    "### Detect Reviews (positive and negative separately)"
   ]
  },
  {
   "cell_type": "code",
   "execution_count": 382,
   "metadata": {
    "id": "0WEAXfPxyaal"
   },
   "outputs": [
    {
     "data": {
      "text/plain": [
       "0        Absolutely wonderful - silky and sexy and comf...\n",
       "1        Love this dress!  it's sooo pretty.  i happene...\n",
       "3        I love, love, love this jumpsuit. it's fun, fl...\n",
       "4        This shirt is very flattering to all due to th...\n",
       "6        I aded this in my basket at hte last mintue to...\n",
       "                               ...                        \n",
       "23479    So i wasn't sure about ordering this skirt bec...\n",
       "23481    I was very happy to snag this dress at such a ...\n",
       "23482    It reminds me of maternity clothes. soft, stre...\n",
       "23484    I bought this dress for a wedding i have this ...\n",
       "23485    This dress in a lovely platinum is feminine an...\n",
       "Name: Text, Length: 18540, dtype: object"
      ]
     },
     "execution_count": 382,
     "metadata": {},
     "output_type": "execute_result"
    }
   ],
   "source": [
    "positive_sen = df2[df2[\"Target_label\"]==0][\"Text\"]\n",
    "positive_sen"
   ]
  },
  {
   "cell_type": "code",
   "execution_count": 383,
   "metadata": {},
   "outputs": [
    {
     "data": {
      "text/plain": [
       "2        I had such high hopes for this dress and reall...\n",
       "5        I love tracy reese dresses, but this one is no...\n",
       "10       Dress runs small esp where the zipper area run...\n",
       "22       First of all, this is not pullover styling. th...\n",
       "25       Loved the material, but i didnt really look at...\n",
       "                               ...                        \n",
       "23449    I tried these on because the color is really p...\n",
       "23450    I wanted to love this jacket. so soft and grea...\n",
       "23460    I purchased this for a very good price and i t...\n",
       "23478    I was surprised at the positive reviews for th...\n",
       "23483    This fit well, but the top was very see throug...\n",
       "Name: Text, Length: 4101, dtype: object"
      ]
     },
     "execution_count": 383,
     "metadata": {},
     "output_type": "execute_result"
    }
   ],
   "source": [
    "negative_sen = df2[df2[\"Target_label\"]==1][\"Text\"]\n",
    "negative_sen"
   ]
  },
  {
   "cell_type": "markdown",
   "metadata": {
    "id": "1WsF_3Zmyaam"
   },
   "source": [
    "### Collect Words (positive and negative separately)"
   ]
  },
  {
   "cell_type": "code",
   "execution_count": 384,
   "metadata": {
    "id": "9sgKO679yaam"
   },
   "outputs": [
    {
     "data": {
      "text/plain": [
       "\"Absolutely wonderful - silky and sexy and comfortable Love this dress!  it's sooo pretty.  i happene\""
      ]
     },
     "execution_count": 384,
     "metadata": {},
     "output_type": "execute_result"
    }
   ],
   "source": [
    "all_positive = \" \".join(positive_sen)\n",
    "all_positive[:100]"
   ]
  },
  {
   "cell_type": "code",
   "execution_count": 385,
   "metadata": {
    "id": "zo-wuz3Wyaam"
   },
   "outputs": [
    {
     "data": {
      "text/plain": [
       "'I had such high hopes for this dress and really wanted it to work for me. i initially ordered the pe'"
      ]
     },
     "execution_count": 385,
     "metadata": {},
     "output_type": "execute_result"
    }
   ],
   "source": [
    "all_negative = \" \".join(negative_sen)\n",
    "all_negative[:100]"
   ]
  },
  {
   "cell_type": "markdown",
   "metadata": {
    "id": "Fq8RVsr2yaan"
   },
   "source": [
    "### Create Word Cloud (for most common words in recommended not recommended reviews separately)"
   ]
  },
  {
   "cell_type": "code",
   "execution_count": 386,
   "metadata": {
    "id": "YgwbzDWKyaan"
   },
   "outputs": [],
   "source": [
    "from wordcloud import WordCloud"
   ]
  },
  {
   "cell_type": "code",
   "execution_count": 387,
   "metadata": {
    "id": "_XxHfK43yaan"
   },
   "outputs": [],
   "source": [
    "import numpy as np\n",
    "from PIL import Image\n",
    "mask = np.array(Image.open(\"C:/Users/BİRKAN/Downloads/sentiment1.png\"))"
   ]
  },
  {
   "cell_type": "code",
   "execution_count": 388,
   "metadata": {
    "id": "wHCH7RuXyaan"
   },
   "outputs": [],
   "source": [
    "wordcloud = WordCloud(background_color=\"white\", max_words =150,mask=mask,contour_color = \"firebrick\",contour_width=1)"
   ]
  },
  {
   "cell_type": "code",
   "execution_count": 389,
   "metadata": {},
   "outputs": [
    {
     "data": {
      "text/plain": [
       "<wordcloud.wordcloud.WordCloud at 0x1e54c83a610>"
      ]
     },
     "execution_count": 389,
     "metadata": {},
     "output_type": "execute_result"
    }
   ],
   "source": [
    "wordcloud.generate(all_positive)"
   ]
  },
  {
   "cell_type": "code",
   "execution_count": 390,
   "metadata": {},
   "outputs": [
    {
     "data": {
      "image/png": "[encoded data removed]",
      "text/plain": [
       "<Figure size 936x936 with 1 Axes>"
      ]
     },
     "metadata": {
      "needs_background": "light"
     },
     "output_type": "display_data"
    }
   ],
   "source": [
    "import matplotlib.pyplot as plt\n",
    "plt.figure(figsize = (13,13))\n",
    "plt.imshow(wordcloud, interpolation=\"bilinear\",)\n",
    "plt.axis(\"off\")\n",
    "plt.show()"
   ]
  },
  {
   "cell_type": "code",
   "execution_count": 391,
   "metadata": {},
   "outputs": [],
   "source": [
    "mask = np.array(Image.open(\"C:/Users/BİRKAN/Downloads/sentim2.jpg\"))"
   ]
  },
  {
   "cell_type": "code",
   "execution_count": 392,
   "metadata": {},
   "outputs": [],
   "source": [
    "wordcloud = WordCloud(background_color=\"white\", max_words =150,mask=mask,contour_color = \"firebrick\",contour_width=1)"
   ]
  },
  {
   "cell_type": "code",
   "execution_count": 393,
   "metadata": {},
   "outputs": [
    {
     "data": {
      "text/plain": [
       "<wordcloud.wordcloud.WordCloud at 0x1e54caaf700>"
      ]
     },
     "execution_count": 393,
     "metadata": {},
     "output_type": "execute_result"
    }
   ],
   "source": [
    "wordcloud.generate(all_negative)"
   ]
  },
  {
   "cell_type": "code",
   "execution_count": 394,
   "metadata": {},
   "outputs": [
    {
     "data": {
      "image/png": "[encoded data removed]",
      "text/plain": [
       "<Figure size 936x936 with 1 Axes>"
      ]
     },
     "metadata": {
      "needs_background": "light"
     },
     "output_type": "display_data"
    }
   ],
   "source": [
    "plt.figure(figsize = (13,13))\n",
    "plt.imshow(wordcloud, interpolation=\"bilinear\",)\n",
    "plt.axis(\"off\")\n",
    "plt.show()"
   ]
  },
  {
   "cell_type": "markdown",
   "metadata": {
    "id": "-9_e1A26CV3_"
   },
   "source": [
    "## 5. Sentiment Classification with Machine Learning, Deep Learning and BERT model\n",
    "\n",
    "Before moving on to modeling, as data preprocessing steps you will need to perform **[vectorization](https://machinelearningmastery.com/prepare-text-data-machine-learning-scikit-learn/)** and **train-test split**. You have performed many times train test split process before.\n",
    "But you will perform the vectorization for the first time.\n",
    "\n",
    "Machine learning algorithms most often take numeric feature vectors as input. Thus, when working with text documents, you need a way to convert each document into a numeric vector. This process is known as text vectorization. Commonly used vectorization approach that you will use here is to represent each text as a vector of word counts.\n",
    "\n",
    "At this moment, you have your review text column as a token (which has no punctuations and stopwords). You can use Scikit-learn’s CountVectorizer to convert the text collection into a matrix of token counts. You can imagine this resulting matrix as a 2-D matrix, where each row is a unique word, and each column is a review.\n",
    "\n",
    "Train all models using TFIDF and Count vectorizer data.\n",
    "\n",
    "**For Deep learning model, use embedding layer for all words.** \n",
    "\n",
    "**For BERT model, use TF tensor**\n",
    "\n",
    "After performing data preprocessing, build your models using following classification algorithms:\n",
    "\n",
    "- Logistic Regression,\n",
    "- Naive Bayes,\n",
    "- Support Vector Machine,\n",
    "- Random Forest,\n",
    "- Ada Boosting\n",
    "- Deep Learning Model\n",
    "- BERT Model"
   ]
  },
  {
   "cell_type": "markdown",
   "metadata": {
    "id": "1qZC05fWyaao"
   },
   "source": [
    "### Train - Test Split"
   ]
  },
  {
   "cell_type": "markdown",
   "metadata": {
    "id": "T2SMUUrxCV3_"
   },
   "source": [
    "To run machine learning algorithms we need to convert text files into numerical feature vectors. We will use bag of words model for our analysis.\n",
    "\n",
    "First we spliting the data into train and test sets:"
   ]
  },
  {
   "cell_type": "code",
   "execution_count": 455,
   "metadata": {
    "id": "_5jiM8T8yaap"
   },
   "outputs": [],
   "source": [
    "from sklearn.model_selection import train_test_split"
   ]
  },
  {
   "cell_type": "code",
   "execution_count": 456,
   "metadata": {
    "id": "zljupyBkyaap"
   },
   "outputs": [],
   "source": [
    "X = df2[\"Text\"]\n",
    "y= df2[\"Target_label\"]"
   ]
  },
  {
   "cell_type": "code",
   "execution_count": 457,
   "metadata": {},
   "outputs": [],
   "source": [
    "X_train, X_test, y_train, y_test = train_test_split(X, y, test_size=0.2, stratify=y, random_state=0)"
   ]
  },
  {
   "cell_type": "markdown",
   "metadata": {
    "id": "adhWeL_iCV3_"
   },
   "source": [
    "In the next step we create a numerical feature vector for each document:"
   ]
  },
  {
   "cell_type": "markdown",
   "metadata": {
    "id": "kMPV90pbyaaq"
   },
   "source": [
    "### Count Vectorization"
   ]
  },
  {
   "cell_type": "code",
   "execution_count": 458,
   "metadata": {
    "id": "c8idORUOyaaq"
   },
   "outputs": [],
   "source": [
    "from sklearn.feature_extraction.text import CountVectorizer"
   ]
  },
  {
   "cell_type": "code",
   "execution_count": 459,
   "metadata": {
    "id": "9y67aO62yaar"
   },
   "outputs": [],
   "source": [
    "vectorizer = CountVectorizer(preprocessor=cleaning, min_df=3)\n",
    "X_train_count = vectorizer.fit_transform(X_train)\n",
    "X_test_count = vectorizer.transform(X_test)"
   ]
  },
  {
   "cell_type": "code",
   "execution_count": 460,
   "metadata": {},
   "outputs": [
    {
     "data": {
      "text/plain": [
       "array([[0, 0, 0, ..., 0, 0, 0],\n",
       "       [0, 0, 0, ..., 0, 0, 0],\n",
       "       [0, 0, 0, ..., 0, 0, 0],\n",
       "       ...,\n",
       "       [0, 0, 0, ..., 0, 0, 0],\n",
       "       [0, 0, 0, ..., 0, 0, 0],\n",
       "       [0, 0, 0, ..., 0, 0, 0]], dtype=int64)"
      ]
     },
     "execution_count": 460,
     "metadata": {},
     "output_type": "execute_result"
    }
   ],
   "source": [
    "X_train_count.toarray()"
   ]
  },
  {
   "cell_type": "markdown",
   "metadata": {
    "id": "3hI_P6_Ryaar"
   },
   "source": [
    "### TF-IDF"
   ]
  },
  {
   "cell_type": "code",
   "execution_count": 461,
   "metadata": {
    "id": "vSSP6ZJkyaar"
   },
   "outputs": [],
   "source": [
    "from sklearn.feature_extraction.text import TfidfVectorizer"
   ]
  },
  {
   "cell_type": "code",
   "execution_count": 462,
   "metadata": {
    "id": "23B1N2XSyaas"
   },
   "outputs": [],
   "source": [
    "tf_idf_vectorizer = TfidfVectorizer(preprocessor=cleaning, min_df=3)\n",
    "X_train_tf_idf = tf_idf_vectorizer.fit_transform(X_train)            \n",
    "X_test_tf_idf = tf_idf_vectorizer.transform(X_test)"
   ]
  },
  {
   "cell_type": "markdown",
   "metadata": {
    "id": "xaVrkxRpCV3_"
   },
   "source": [
    "## Logistic Regression"
   ]
  },
  {
   "cell_type": "code",
   "execution_count": 403,
   "metadata": {},
   "outputs": [],
   "source": [
    "from sklearn.metrics import confusion_matrix, classification_report, f1_score, recall_score"
   ]
  },
  {
   "cell_type": "code",
   "execution_count": 404,
   "metadata": {},
   "outputs": [],
   "source": [
    "def eval(model, X_train, X_test):\n",
    "    y_pred = model.predict(X_test)\n",
    "    y_pred_train = model.predict(X_train)\n",
    "    print(confusion_matrix(y_test, y_pred))\n",
    "    print(\"Test_Set\")\n",
    "    print(classification_report(y_test,y_pred))\n",
    "    print(\"Train_Set\")\n",
    "    print(classification_report(y_train,y_pred_train))"
   ]
  },
  {
   "cell_type": "markdown",
   "metadata": {
    "id": "GbVbTgoYyaas"
   },
   "source": [
    "### CountVectorizer"
   ]
  },
  {
   "cell_type": "code",
   "execution_count": 435,
   "metadata": {
    "id": "SL84xDUfyaat"
   },
   "outputs": [
    {
     "data": {
      "text/html": [
       "<style>#sk-container-id-6 {color: black;background-color: white;}#sk-container-id-6 pre{padding: 0;}#sk-container-id-6 div.sk-toggleable {background-color: white;}#sk-container-id-6 label.sk-toggleable__label {cursor: pointer;display: block;width: 100%;margin-bottom: 0;padding: 0.3em;box-sizing: border-box;text-align: center;}#sk-container-id-6 label.sk-toggleable__label-arrow:before {content: \"▸\";float: left;margin-right: 0.25em;color: #696969;}#sk-container-id-6 label.sk-toggleable__label-arrow:hover:before {color: black;}#sk-container-id-6 div.sk-estimator:hover label.sk-toggleable__label-arrow:before {color: black;}#sk-container-id-6 div.sk-toggleable__content {max-height: 0;max-width: 0;overflow: hidden;text-align: left;background-color: #f0f8ff;}#sk-container-id-6 div.sk-toggleable__content pre {margin: 0.2em;color: black;border-radius: 0.25em;background-color: #f0f8ff;}#sk-container-id-6 input.sk-toggleable__control:checked~div.sk-toggleable__content {max-height: 200px;max-width: 100%;overflow: auto;}#sk-container-id-6 input.sk-toggleable__control:checked~label.sk-toggleable__label-arrow:before {content: \"▾\";}#sk-container-id-6 div.sk-estimator input.sk-toggleable__control:checked~label.sk-toggleable__label {background-color: #d4ebff;}#sk-container-id-6 div.sk-label input.sk-toggleable__control:checked~label.sk-toggleable__label {background-color: #d4ebff;}#sk-container-id-6 input.sk-hidden--visually {border: 0;clip: rect(1px 1px 1px 1px);clip: rect(1px, 1px, 1px, 1px);height: 1px;margin: -1px;overflow: hidden;padding: 0;position: absolute;width: 1px;}#sk-container-id-6 div.sk-estimator {font-family: monospace;background-color: #f0f8ff;border: 1px dotted black;border-radius: 0.25em;box-sizing: border-box;margin-bottom: 0.5em;}#sk-container-id-6 div.sk-estimator:hover {background-color: #d4ebff;}#sk-container-id-6 div.sk-parallel-item::after {content: \"\";width: 100%;border-bottom: 1px solid gray;flex-grow: 1;}#sk-container-id-6 div.sk-label:hover label.sk-toggleable__label {background-color: #d4ebff;}#sk-container-id-6 div.sk-serial::before {content: \"\";position: absolute;border-left: 1px solid gray;box-sizing: border-box;top: 0;bottom: 0;left: 50%;z-index: 0;}#sk-container-id-6 div.sk-serial {display: flex;flex-direction: column;align-items: center;background-color: white;padding-right: 0.2em;padding-left: 0.2em;position: relative;}#sk-container-id-6 div.sk-item {position: relative;z-index: 1;}#sk-container-id-6 div.sk-parallel {display: flex;align-items: stretch;justify-content: center;background-color: white;position: relative;}#sk-container-id-6 div.sk-item::before, #sk-container-id-6 div.sk-parallel-item::before {content: \"\";position: absolute;border-left: 1px solid gray;box-sizing: border-box;top: 0;bottom: 0;left: 50%;z-index: -1;}#sk-container-id-6 div.sk-parallel-item {display: flex;flex-direction: column;z-index: 1;position: relative;background-color: white;}#sk-container-id-6 div.sk-parallel-item:first-child::after {align-self: flex-end;width: 50%;}#sk-container-id-6 div.sk-parallel-item:last-child::after {align-self: flex-start;width: 50%;}#sk-container-id-6 div.sk-parallel-item:only-child::after {width: 0;}#sk-container-id-6 div.sk-dashed-wrapped {border: 1px dashed gray;margin: 0 0.4em 0.5em 0.4em;box-sizing: border-box;padding-bottom: 0.4em;background-color: white;}#sk-container-id-6 div.sk-label label {font-family: monospace;font-weight: bold;display: inline-block;line-height: 1.2em;}#sk-container-id-6 div.sk-label-container {text-align: center;}#sk-container-id-6 div.sk-container {/* jupyter's `normalize.less` sets `[hidden] { display: none; }` but bootstrap.min.css set `[hidden] { display: none !important; }` so we also need the `!important` here to be able to override the default hidden behavior on the sphinx rendered scikit-learn.org. See: https://github.com/scikit-learn/scikit-learn/issues/21755 */display: inline-block !important;position: relative;}#sk-container-id-6 div.sk-text-repr-fallback {display: none;}</style><div id=\"sk-container-id-6\" class=\"sk-top-container\"><div class=\"sk-text-repr-fallback\"><pre>LogisticRegression(C=0.02, class_weight=&#x27;balanced&#x27;, max_iter=1000,\n",
       "                   random_state=42)</pre><b>In a Jupyter environment, please rerun this cell to show the HTML representation or trust the notebook. <br />On GitHub, the HTML representation is unable to render, please try loading this page with nbviewer.org.</b></div><div class=\"sk-container\" hidden><div class=\"sk-item\"><div class=\"sk-estimator sk-toggleable\"><input class=\"sk-toggleable__control sk-hidden--visually\" id=\"sk-estimator-id-6\" type=\"checkbox\" checked><label for=\"sk-estimator-id-6\" class=\"sk-toggleable__label sk-toggleable__label-arrow\">LogisticRegression</label><div class=\"sk-toggleable__content\"><pre>LogisticRegression(C=0.02, class_weight=&#x27;balanced&#x27;, max_iter=1000,\n",
       "                   random_state=42)</pre></div></div></div></div></div>"
      ],
      "text/plain": [
       "LogisticRegression(C=0.02, class_weight='balanced', max_iter=1000,\n",
       "                   random_state=42)"
      ]
     },
     "execution_count": 435,
     "metadata": {},
     "output_type": "execute_result"
    }
   ],
   "source": [
    "from sklearn.linear_model import LogisticRegression\n",
    "log = LogisticRegression(max_iter=1000, class_weight='balanced', random_state=42,C = 0.02)\n",
    "log.fit(X_train_count,y_train)"
   ]
  },
  {
   "cell_type": "code",
   "execution_count": 436,
   "metadata": {
    "id": "f8QC0uBYyaat"
   },
   "outputs": [
    {
     "name": "stdout",
     "output_type": "stream",
     "text": [
      "LOG MODEL\n",
      "[[3155  554]\n",
      " [ 129  691]]\n",
      "Test_Set\n",
      "              precision    recall  f1-score   support\n",
      "\n",
      "           0       0.96      0.85      0.90      3709\n",
      "           1       0.56      0.84      0.67       820\n",
      "\n",
      "    accuracy                           0.85      4529\n",
      "   macro avg       0.76      0.85      0.79      4529\n",
      "weighted avg       0.89      0.85      0.86      4529\n",
      "\n",
      "Train_Set\n",
      "              precision    recall  f1-score   support\n",
      "\n",
      "           0       0.97      0.87      0.92     14831\n",
      "           1       0.60      0.89      0.72      3281\n",
      "\n",
      "    accuracy                           0.87     18112\n",
      "   macro avg       0.79      0.88      0.82     18112\n",
      "weighted avg       0.91      0.87      0.88     18112\n",
      "\n"
     ]
    }
   ],
   "source": [
    "print(\"LOG MODEL\")\n",
    "eval(log, X_train_count, X_test_count)"
   ]
  },
  {
   "cell_type": "code",
   "execution_count": 438,
   "metadata": {},
   "outputs": [],
   "source": [
    "scoring = ['precision','recall','f1','accuracy']"
   ]
  },
  {
   "cell_type": "code",
   "execution_count": 439,
   "metadata": {
    "id": "wdYd2pAQyaat"
   },
   "outputs": [
    {
     "data": {
      "text/html": [
       "<div>\n",
       "<style scoped>\n",
       "    .dataframe tbody tr th:only-of-type {\n",
       "        vertical-align: middle;\n",
       "    }\n",
       "\n",
       "    .dataframe tbody tr th {\n",
       "        vertical-align: top;\n",
       "    }\n",
       "\n",
       "    .dataframe thead th {\n",
       "        text-align: right;\n",
       "    }\n",
       "</style>\n",
       "<table border=\"1\" class=\"dataframe\">\n",
       "  <thead>\n",
       "    <tr style=\"text-align: right;\">\n",
       "      <th></th>\n",
       "      <th>fit_time</th>\n",
       "      <th>score_time</th>\n",
       "      <th>test_precision</th>\n",
       "      <th>train_precision</th>\n",
       "      <th>test_recall</th>\n",
       "      <th>train_recall</th>\n",
       "      <th>test_f1</th>\n",
       "      <th>train_f1</th>\n",
       "      <th>test_accuracy</th>\n",
       "      <th>train_accuracy</th>\n",
       "    </tr>\n",
       "  </thead>\n",
       "  <tbody>\n",
       "    <tr>\n",
       "      <th>1</th>\n",
       "      <td>0.128203</td>\n",
       "      <td>0.006890</td>\n",
       "      <td>0.571429</td>\n",
       "      <td>0.598639</td>\n",
       "      <td>0.865854</td>\n",
       "      <td>0.894006</td>\n",
       "      <td>0.688485</td>\n",
       "      <td>0.717099</td>\n",
       "      <td>0.858168</td>\n",
       "      <td>0.872209</td>\n",
       "    </tr>\n",
       "    <tr>\n",
       "      <th>2</th>\n",
       "      <td>0.203960</td>\n",
       "      <td>0.009081</td>\n",
       "      <td>0.569106</td>\n",
       "      <td>0.604715</td>\n",
       "      <td>0.851064</td>\n",
       "      <td>0.894986</td>\n",
       "      <td>0.682095</td>\n",
       "      <td>0.721759</td>\n",
       "      <td>0.855960</td>\n",
       "      <td>0.875031</td>\n",
       "    </tr>\n",
       "    <tr>\n",
       "      <th>3</th>\n",
       "      <td>0.127541</td>\n",
       "      <td>0.004153</td>\n",
       "      <td>0.580851</td>\n",
       "      <td>0.601862</td>\n",
       "      <td>0.832317</td>\n",
       "      <td>0.897392</td>\n",
       "      <td>0.684211</td>\n",
       "      <td>0.720500</td>\n",
       "      <td>0.860850</td>\n",
       "      <td>0.873873</td>\n",
       "    </tr>\n",
       "    <tr>\n",
       "      <th>4</th>\n",
       "      <td>0.139422</td>\n",
       "      <td>0.004999</td>\n",
       "      <td>0.587045</td>\n",
       "      <td>0.600547</td>\n",
       "      <td>0.884146</td>\n",
       "      <td>0.891974</td>\n",
       "      <td>0.705596</td>\n",
       "      <td>0.717809</td>\n",
       "      <td>0.866372</td>\n",
       "      <td>0.872953</td>\n",
       "    </tr>\n",
       "    <tr>\n",
       "      <th>5</th>\n",
       "      <td>0.201430</td>\n",
       "      <td>0.004017</td>\n",
       "      <td>0.572327</td>\n",
       "      <td>0.604587</td>\n",
       "      <td>0.832317</td>\n",
       "      <td>0.892652</td>\n",
       "      <td>0.678261</td>\n",
       "      <td>0.720908</td>\n",
       "      <td>0.856985</td>\n",
       "      <td>0.874793</td>\n",
       "    </tr>\n",
       "    <tr>\n",
       "      <th>6</th>\n",
       "      <td>0.103253</td>\n",
       "      <td>0.002987</td>\n",
       "      <td>0.565574</td>\n",
       "      <td>0.603774</td>\n",
       "      <td>0.841463</td>\n",
       "      <td>0.899424</td>\n",
       "      <td>0.676471</td>\n",
       "      <td>0.722524</td>\n",
       "      <td>0.854224</td>\n",
       "      <td>0.874854</td>\n",
       "    </tr>\n",
       "    <tr>\n",
       "      <th>7</th>\n",
       "      <td>0.167605</td>\n",
       "      <td>0.009574</td>\n",
       "      <td>0.566596</td>\n",
       "      <td>0.606415</td>\n",
       "      <td>0.817073</td>\n",
       "      <td>0.896377</td>\n",
       "      <td>0.669164</td>\n",
       "      <td>0.723422</td>\n",
       "      <td>0.853672</td>\n",
       "      <td>0.875836</td>\n",
       "    </tr>\n",
       "    <tr>\n",
       "      <th>8</th>\n",
       "      <td>0.227444</td>\n",
       "      <td>0.005992</td>\n",
       "      <td>0.537549</td>\n",
       "      <td>0.602541</td>\n",
       "      <td>0.829268</td>\n",
       "      <td>0.899424</td>\n",
       "      <td>0.652278</td>\n",
       "      <td>0.721641</td>\n",
       "      <td>0.839867</td>\n",
       "      <td>0.874302</td>\n",
       "    </tr>\n",
       "    <tr>\n",
       "      <th>9</th>\n",
       "      <td>0.193287</td>\n",
       "      <td>0.003681</td>\n",
       "      <td>0.575107</td>\n",
       "      <td>0.603338</td>\n",
       "      <td>0.817073</td>\n",
       "      <td>0.893667</td>\n",
       "      <td>0.675063</td>\n",
       "      <td>0.720349</td>\n",
       "      <td>0.857537</td>\n",
       "      <td>0.874302</td>\n",
       "    </tr>\n",
       "    <tr>\n",
       "      <th>10</th>\n",
       "      <td>0.095304</td>\n",
       "      <td>0.003846</td>\n",
       "      <td>0.565737</td>\n",
       "      <td>0.603381</td>\n",
       "      <td>0.865854</td>\n",
       "      <td>0.894345</td>\n",
       "      <td>0.684337</td>\n",
       "      <td>0.720600</td>\n",
       "      <td>0.855329</td>\n",
       "      <td>0.874364</td>\n",
       "    </tr>\n",
       "  </tbody>\n",
       "</table>\n",
       "</div>"
      ],
      "text/plain": [
       "    fit_time  score_time  test_precision  train_precision  test_recall  \\\n",
       "1   0.128203    0.006890        0.571429         0.598639     0.865854   \n",
       "2   0.203960    0.009081        0.569106         0.604715     0.851064   \n",
       "3   0.127541    0.004153        0.580851         0.601862     0.832317   \n",
       "4   0.139422    0.004999        0.587045         0.600547     0.884146   \n",
       "5   0.201430    0.004017        0.572327         0.604587     0.832317   \n",
       "6   0.103253    0.002987        0.565574         0.603774     0.841463   \n",
       "7   0.167605    0.009574        0.566596         0.606415     0.817073   \n",
       "8   0.227444    0.005992        0.537549         0.602541     0.829268   \n",
       "9   0.193287    0.003681        0.575107         0.603338     0.817073   \n",
       "10  0.095304    0.003846        0.565737         0.603381     0.865854   \n",
       "\n",
       "    train_recall   test_f1  train_f1  test_accuracy  train_accuracy  \n",
       "1       0.894006  0.688485  0.717099       0.858168        0.872209  \n",
       "2       0.894986  0.682095  0.721759       0.855960        0.875031  \n",
       "3       0.897392  0.684211  0.720500       0.860850        0.873873  \n",
       "4       0.891974  0.705596  0.717809       0.866372        0.872953  \n",
       "5       0.892652  0.678261  0.720908       0.856985        0.874793  \n",
       "6       0.899424  0.676471  0.722524       0.854224        0.874854  \n",
       "7       0.896377  0.669164  0.723422       0.853672        0.875836  \n",
       "8       0.899424  0.652278  0.721641       0.839867        0.874302  \n",
       "9       0.893667  0.675063  0.720349       0.857537        0.874302  \n",
       "10      0.894345  0.684337  0.720600       0.855329        0.874364  "
      ]
     },
     "execution_count": 439,
     "metadata": {},
     "output_type": "execute_result"
    }
   ],
   "source": [
    "model = LogisticRegression(C = 0.02, max_iter=1000,class_weight='balanced',random_state=42)\n",
    "scores = cross_validate(model, X_train_count, y_train, scoring = scoring, cv = 10, return_train_score=True)\n",
    "df_scores = pd.DataFrame(scores, index = range(1, 11))\n",
    "df_scores"
   ]
  },
  {
   "cell_type": "code",
   "execution_count": 440,
   "metadata": {},
   "outputs": [
    {
     "data": {
      "text/plain": [
       "test_precision     0.569132\n",
       "train_precision    0.602980\n",
       "test_recall        0.843643\n",
       "train_recall       0.895425\n",
       "test_f1            0.679596\n",
       "train_f1           0.720661\n",
       "test_accuracy      0.855897\n",
       "train_accuracy     0.874252\n",
       "dtype: float64"
      ]
     },
     "execution_count": 440,
     "metadata": {},
     "output_type": "execute_result"
    }
   ],
   "source": [
    "df_scores.mean()[2:]"
   ]
  },
  {
   "cell_type": "code",
   "execution_count": 433,
   "metadata": {},
   "outputs": [],
   "source": [
    "from yellowbrick.classifier import PrecisionRecallCurve"
   ]
  },
  {
   "cell_type": "code",
   "execution_count": 446,
   "metadata": {},
   "outputs": [
    {
     "data": {
      "image/png": "[encoded data removed]",
      "text/plain": [
       "<Figure size 576x396 with 1 Axes>"
      ]
     },
     "metadata": {},
     "output_type": "display_data"
    }
   ],
   "source": [
    "viz = PrecisionRecallCurve(\n",
    "    LogisticRegression(C = 0.02, max_iter=1000,class_weight='balanced',random_state=42),\n",
    "    classes=log.classes_,\n",
    "    per_class=True,\n",
    "    cmap=\"Set1\"\n",
    ")\n",
    "viz.fit(X_train_count,y_train)\n",
    "viz.score(X_test_count, y_test)                   # modeli sıfırlayıp veriyoruz zaten burada fit predict var.\n",
    "viz.show();"
   ]
  },
  {
   "cell_type": "markdown",
   "metadata": {
    "id": "wCVIPEEfyaat"
   },
   "source": [
    "### TF-IDF"
   ]
  },
  {
   "cell_type": "code",
   "execution_count": null,
   "metadata": {
    "id": "nGLZC3pXyaau"
   },
   "outputs": [],
   "source": []
  },
  {
   "cell_type": "code",
   "execution_count": null,
   "metadata": {
    "id": "EqWSaoNUyaau"
   },
   "outputs": [],
   "source": []
  },
  {
   "cell_type": "markdown",
   "metadata": {
    "id": "QACRU9G3CV4A"
   },
   "source": [
    "## Naive Bayes \n",
    "\n",
    "### Countvectorizer"
   ]
  },
  {
   "cell_type": "code",
   "execution_count": 463,
   "metadata": {
    "id": "YE0i90Q5yaav"
   },
   "outputs": [],
   "source": [
    "from sklearn.naive_bayes import MultinomialNB, BernoulliNB"
   ]
  },
  {
   "cell_type": "code",
   "execution_count": 464,
   "metadata": {
    "id": "qRGX7Ck6yaaw"
   },
   "outputs": [
    {
     "data": {
      "text/html": [
       "<style>#sk-container-id-7 {color: black;background-color: white;}#sk-container-id-7 pre{padding: 0;}#sk-container-id-7 div.sk-toggleable {background-color: white;}#sk-container-id-7 label.sk-toggleable__label {cursor: pointer;display: block;width: 100%;margin-bottom: 0;padding: 0.3em;box-sizing: border-box;text-align: center;}#sk-container-id-7 label.sk-toggleable__label-arrow:before {content: \"▸\";float: left;margin-right: 0.25em;color: #696969;}#sk-container-id-7 label.sk-toggleable__label-arrow:hover:before {color: black;}#sk-container-id-7 div.sk-estimator:hover label.sk-toggleable__label-arrow:before {color: black;}#sk-container-id-7 div.sk-toggleable__content {max-height: 0;max-width: 0;overflow: hidden;text-align: left;background-color: #f0f8ff;}#sk-container-id-7 div.sk-toggleable__content pre {margin: 0.2em;color: black;border-radius: 0.25em;background-color: #f0f8ff;}#sk-container-id-7 input.sk-toggleable__control:checked~div.sk-toggleable__content {max-height: 200px;max-width: 100%;overflow: auto;}#sk-container-id-7 input.sk-toggleable__control:checked~label.sk-toggleable__label-arrow:before {content: \"▾\";}#sk-container-id-7 div.sk-estimator input.sk-toggleable__control:checked~label.sk-toggleable__label {background-color: #d4ebff;}#sk-container-id-7 div.sk-label input.sk-toggleable__control:checked~label.sk-toggleable__label {background-color: #d4ebff;}#sk-container-id-7 input.sk-hidden--visually {border: 0;clip: rect(1px 1px 1px 1px);clip: rect(1px, 1px, 1px, 1px);height: 1px;margin: -1px;overflow: hidden;padding: 0;position: absolute;width: 1px;}#sk-container-id-7 div.sk-estimator {font-family: monospace;background-color: #f0f8ff;border: 1px dotted black;border-radius: 0.25em;box-sizing: border-box;margin-bottom: 0.5em;}#sk-container-id-7 div.sk-estimator:hover {background-color: #d4ebff;}#sk-container-id-7 div.sk-parallel-item::after {content: \"\";width: 100%;border-bottom: 1px solid gray;flex-grow: 1;}#sk-container-id-7 div.sk-label:hover label.sk-toggleable__label {background-color: #d4ebff;}#sk-container-id-7 div.sk-serial::before {content: \"\";position: absolute;border-left: 1px solid gray;box-sizing: border-box;top: 0;bottom: 0;left: 50%;z-index: 0;}#sk-container-id-7 div.sk-serial {display: flex;flex-direction: column;align-items: center;background-color: white;padding-right: 0.2em;padding-left: 0.2em;position: relative;}#sk-container-id-7 div.sk-item {position: relative;z-index: 1;}#sk-container-id-7 div.sk-parallel {display: flex;align-items: stretch;justify-content: center;background-color: white;position: relative;}#sk-container-id-7 div.sk-item::before, #sk-container-id-7 div.sk-parallel-item::before {content: \"\";position: absolute;border-left: 1px solid gray;box-sizing: border-box;top: 0;bottom: 0;left: 50%;z-index: -1;}#sk-container-id-7 div.sk-parallel-item {display: flex;flex-direction: column;z-index: 1;position: relative;background-color: white;}#sk-container-id-7 div.sk-parallel-item:first-child::after {align-self: flex-end;width: 50%;}#sk-container-id-7 div.sk-parallel-item:last-child::after {align-self: flex-start;width: 50%;}#sk-container-id-7 div.sk-parallel-item:only-child::after {width: 0;}#sk-container-id-7 div.sk-dashed-wrapped {border: 1px dashed gray;margin: 0 0.4em 0.5em 0.4em;box-sizing: border-box;padding-bottom: 0.4em;background-color: white;}#sk-container-id-7 div.sk-label label {font-family: monospace;font-weight: bold;display: inline-block;line-height: 1.2em;}#sk-container-id-7 div.sk-label-container {text-align: center;}#sk-container-id-7 div.sk-container {/* jupyter's `normalize.less` sets `[hidden] { display: none; }` but bootstrap.min.css set `[hidden] { display: none !important; }` so we also need the `!important` here to be able to override the default hidden behavior on the sphinx rendered scikit-learn.org. See: https://github.com/scikit-learn/scikit-learn/issues/21755 */display: inline-block !important;position: relative;}#sk-container-id-7 div.sk-text-repr-fallback {display: none;}</style><div id=\"sk-container-id-7\" class=\"sk-top-container\"><div class=\"sk-text-repr-fallback\"><pre>BernoulliNB(alpha=10)</pre><b>In a Jupyter environment, please rerun this cell to show the HTML representation or trust the notebook. <br />On GitHub, the HTML representation is unable to render, please try loading this page with nbviewer.org.</b></div><div class=\"sk-container\" hidden><div class=\"sk-item\"><div class=\"sk-estimator sk-toggleable\"><input class=\"sk-toggleable__control sk-hidden--visually\" id=\"sk-estimator-id-7\" type=\"checkbox\" checked><label for=\"sk-estimator-id-7\" class=\"sk-toggleable__label sk-toggleable__label-arrow\">BernoulliNB</label><div class=\"sk-toggleable__content\"><pre>BernoulliNB(alpha=10)</pre></div></div></div></div></div>"
      ],
      "text/plain": [
       "BernoulliNB(alpha=10)"
      ]
     },
     "execution_count": 464,
     "metadata": {},
     "output_type": "execute_result"
    }
   ],
   "source": [
    "nb = BernoulliNB(alpha=10)\n",
    "nb.fit(X_train_count,y_train)"
   ]
  },
  {
   "cell_type": "code",
   "execution_count": null,
   "metadata": {},
   "outputs": [],
   "source": [
    "print(\"NB MODEL\")\n",
    "eval(nb, X_train_count, X_test_count)"
   ]
  },
  {
   "cell_type": "code",
   "execution_count": null,
   "metadata": {},
   "outputs": [],
   "source": []
  },
  {
   "cell_type": "code",
   "execution_count": null,
   "metadata": {},
   "outputs": [],
   "source": []
  },
  {
   "cell_type": "markdown",
   "metadata": {
    "id": "K0YPoHQIyaaw"
   },
   "source": [
    "### TF-IDF"
   ]
  },
  {
   "cell_type": "code",
   "execution_count": null,
   "metadata": {
    "id": "sH34zsJqyaax"
   },
   "outputs": [],
   "source": []
  },
  {
   "cell_type": "code",
   "execution_count": null,
   "metadata": {
    "id": "-rWCvkHmyaay"
   },
   "outputs": [],
   "source": []
  },
  {
   "cell_type": "markdown",
   "metadata": {
    "id": "OSkbnJJiCV4A"
   },
   "source": [
    "## Support Vector Machine (SVM)\n",
    "\n",
    "### Countvectorizer"
   ]
  },
  {
   "cell_type": "code",
   "execution_count": null,
   "metadata": {
    "id": "xP-Io7Y4yaa0"
   },
   "outputs": [],
   "source": []
  },
  {
   "cell_type": "code",
   "execution_count": null,
   "metadata": {
    "id": "v-4GHQYWyaa1"
   },
   "outputs": [],
   "source": []
  },
  {
   "cell_type": "markdown",
   "metadata": {
    "id": "BAX3oHiKyaa2"
   },
   "source": [
    "### TD-IDF"
   ]
  },
  {
   "cell_type": "code",
   "execution_count": null,
   "metadata": {
    "id": "Kvmchzafyaa3"
   },
   "outputs": [],
   "source": []
  },
  {
   "cell_type": "code",
   "execution_count": null,
   "metadata": {
    "id": "4XitL-5Iyaa4"
   },
   "outputs": [],
   "source": []
  },
  {
   "cell_type": "markdown",
   "metadata": {
    "id": "qTECEchfCV4A"
   },
   "source": [
    "## Random Forest\n",
    "\n",
    "### Countvectorizer"
   ]
  },
  {
   "cell_type": "code",
   "execution_count": null,
   "metadata": {
    "id": "8E4GTelvyaa5"
   },
   "outputs": [],
   "source": []
  },
  {
   "cell_type": "code",
   "execution_count": null,
   "metadata": {
    "id": "oukKdl74yaa5"
   },
   "outputs": [],
   "source": []
  },
  {
   "cell_type": "markdown",
   "metadata": {
    "id": "pXtEODdFyaa6"
   },
   "source": [
    "### TF-IDF"
   ]
  },
  {
   "cell_type": "code",
   "execution_count": null,
   "metadata": {
    "id": "W5EfAthhyaa6"
   },
   "outputs": [],
   "source": []
  },
  {
   "cell_type": "code",
   "execution_count": null,
   "metadata": {
    "id": "JO3OW5xayaa6"
   },
   "outputs": [],
   "source": []
  },
  {
   "cell_type": "markdown",
   "metadata": {
    "id": "-SezeeY2yaa6"
   },
   "source": [
    "## Ada Boosting\n",
    "\n",
    "### Countvectorizer"
   ]
  },
  {
   "cell_type": "code",
   "execution_count": null,
   "metadata": {
    "id": "Wh_3SQPuyaa7"
   },
   "outputs": [],
   "source": []
  },
  {
   "cell_type": "code",
   "execution_count": null,
   "metadata": {
    "id": "xAl3ZHO9yaa7"
   },
   "outputs": [],
   "source": []
  },
  {
   "cell_type": "markdown",
   "metadata": {
    "id": "TkBYO2fdyaa8"
   },
   "source": [
    "### TF-IDF"
   ]
  },
  {
   "cell_type": "code",
   "execution_count": null,
   "metadata": {
    "id": "JO-PdyCtyaa8"
   },
   "outputs": [],
   "source": []
  },
  {
   "cell_type": "code",
   "execution_count": null,
   "metadata": {
    "id": "3eLEu7-Nyaa8"
   },
   "outputs": [],
   "source": []
  },
  {
   "cell_type": "markdown",
   "metadata": {
    "id": "d_u6smUMyaa8"
   },
   "source": [
    "## DL modeling"
   ]
  },
  {
   "cell_type": "code",
   "execution_count": 45,
   "metadata": {
    "id": "L41zsZXfyaa9"
   },
   "outputs": [],
   "source": [
    "from tensorflow.keras.models import Sequential\n",
    "from tensorflow.keras.layers import Dense, GRU, Embedding, Dropout\n",
    "from tensorflow.keras.optimizers import Adam\n",
    "from tensorflow.keras.preprocessing.text import Tokenizer\n",
    "from tensorflow.keras.preprocessing.sequence import pad_sequences"
   ]
  },
  {
   "cell_type": "code",
   "execution_count": 46,
   "metadata": {
    "id": "hgZzYhYfyaa9"
   },
   "outputs": [
    {
     "data": {
      "text/html": [
       "<div>\n",
       "<style scoped>\n",
       "    .dataframe tbody tr th:only-of-type {\n",
       "        vertical-align: middle;\n",
       "    }\n",
       "\n",
       "    .dataframe tbody tr th {\n",
       "        vertical-align: top;\n",
       "    }\n",
       "\n",
       "    .dataframe thead th {\n",
       "        text-align: right;\n",
       "    }\n",
       "</style>\n",
       "<table border=\"1\" class=\"dataframe\">\n",
       "  <thead>\n",
       "    <tr style=\"text-align: right;\">\n",
       "      <th></th>\n",
       "      <th>Text</th>\n",
       "      <th>Target_label</th>\n",
       "    </tr>\n",
       "  </thead>\n",
       "  <tbody>\n",
       "    <tr>\n",
       "      <th>0</th>\n",
       "      <td>Absolutely wonderful - silky and sexy and comf...</td>\n",
       "      <td>0</td>\n",
       "    </tr>\n",
       "    <tr>\n",
       "      <th>1</th>\n",
       "      <td>Love this dress!  it's sooo pretty.  i happene...</td>\n",
       "      <td>0</td>\n",
       "    </tr>\n",
       "    <tr>\n",
       "      <th>2</th>\n",
       "      <td>I had such high hopes for this dress and reall...</td>\n",
       "      <td>1</td>\n",
       "    </tr>\n",
       "    <tr>\n",
       "      <th>3</th>\n",
       "      <td>I love, love, love this jumpsuit. it's fun, fl...</td>\n",
       "      <td>0</td>\n",
       "    </tr>\n",
       "    <tr>\n",
       "      <th>4</th>\n",
       "      <td>This shirt is very flattering to all due to th...</td>\n",
       "      <td>0</td>\n",
       "    </tr>\n",
       "    <tr>\n",
       "      <th>...</th>\n",
       "      <td>...</td>\n",
       "      <td>...</td>\n",
       "    </tr>\n",
       "    <tr>\n",
       "      <th>23481</th>\n",
       "      <td>I was very happy to snag this dress at such a ...</td>\n",
       "      <td>0</td>\n",
       "    </tr>\n",
       "    <tr>\n",
       "      <th>23482</th>\n",
       "      <td>It reminds me of maternity clothes. soft, stre...</td>\n",
       "      <td>0</td>\n",
       "    </tr>\n",
       "    <tr>\n",
       "      <th>23483</th>\n",
       "      <td>This fit well, but the top was very see throug...</td>\n",
       "      <td>1</td>\n",
       "    </tr>\n",
       "    <tr>\n",
       "      <th>23484</th>\n",
       "      <td>I bought this dress for a wedding i have this ...</td>\n",
       "      <td>0</td>\n",
       "    </tr>\n",
       "    <tr>\n",
       "      <th>23485</th>\n",
       "      <td>This dress in a lovely platinum is feminine an...</td>\n",
       "      <td>0</td>\n",
       "    </tr>\n",
       "  </tbody>\n",
       "</table>\n",
       "<p>22641 rows × 2 columns</p>\n",
       "</div>"
      ],
      "text/plain": [
       "                                                    Text  Target_label\n",
       "0      Absolutely wonderful - silky and sexy and comf...             0\n",
       "1      Love this dress!  it's sooo pretty.  i happene...             0\n",
       "2      I had such high hopes for this dress and reall...             1\n",
       "3      I love, love, love this jumpsuit. it's fun, fl...             0\n",
       "4      This shirt is very flattering to all due to th...             0\n",
       "...                                                  ...           ...\n",
       "23481  I was very happy to snag this dress at such a ...             0\n",
       "23482  It reminds me of maternity clothes. soft, stre...             0\n",
       "23483  This fit well, but the top was very see throug...             1\n",
       "23484  I bought this dress for a wedding i have this ...             0\n",
       "23485  This dress in a lovely platinum is feminine an...             0\n",
       "\n",
       "[22641 rows x 2 columns]"
      ]
     },
     "execution_count": 46,
     "metadata": {},
     "output_type": "execute_result"
    }
   ],
   "source": [
    "df"
   ]
  },
  {
   "cell_type": "code",
   "execution_count": 47,
   "metadata": {},
   "outputs": [
    {
     "data": {
      "text/plain": [
       "Text            0\n",
       "Target_label    0\n",
       "dtype: int64"
      ]
     },
     "execution_count": 47,
     "metadata": {},
     "output_type": "execute_result"
    }
   ],
   "source": [
    "df.isna().sum()"
   ]
  },
  {
   "cell_type": "code",
   "execution_count": 48,
   "metadata": {},
   "outputs": [
    {
     "data": {
      "text/plain": [
       "0    18540\n",
       "1     4101\n",
       "Name: Target_label, dtype: int64"
      ]
     },
     "execution_count": 48,
     "metadata": {},
     "output_type": "execute_result"
    }
   ],
   "source": [
    "df[\"Target_label\"].value_counts()"
   ]
  },
  {
   "cell_type": "markdown",
   "metadata": {
    "id": "EsBCaOJwyaa9"
   },
   "source": [
    "### Tokenization"
   ]
  },
  {
   "cell_type": "code",
   "execution_count": 49,
   "metadata": {
    "id": "8VoMw3wWyaa-"
   },
   "outputs": [],
   "source": [
    "X = df[\"Text\"]\n",
    "y = df['Target_label']"
   ]
  },
  {
   "cell_type": "code",
   "execution_count": 61,
   "metadata": {
    "id": "Sk9qU4g3yaa-"
   },
   "outputs": [],
   "source": [
    "num_words = 10000\n",
    "\n",
    "#Texti sayısal forma dönüştürürken ve eğitim yaparken  datamda en sık kullanılan ilk 10000 tokeni dikkate almasını söylüyoruz."
   ]
  },
  {
   "cell_type": "code",
   "execution_count": 62,
   "metadata": {},
   "outputs": [],
   "source": [
    "tokenizer = Tokenizer(num_words=num_words)"
   ]
  },
  {
   "cell_type": "code",
   "execution_count": 63,
   "metadata": {},
   "outputs": [],
   "source": [
    "tokenizer.fit_on_texts(X)"
   ]
  },
  {
   "cell_type": "markdown",
   "metadata": {
    "id": "cBqiLAauyaa_"
   },
   "source": [
    "### Creating word index"
   ]
  },
  {
   "cell_type": "code",
   "execution_count": 64,
   "metadata": {
    "id": "s2-nask6yabA"
   },
   "outputs": [
    {
     "data": {
      "text/plain": [
       "{'the': 1,\n",
       " 'i': 2,\n",
       " 'and': 3,\n",
       " 'a': 4,\n",
       " 'it': 5,\n",
       " 'is': 6,\n",
       " 'this': 7,\n",
       " 'to': 8,\n",
       " 'in': 9,\n",
       " 'but': 10,\n",
       " 'on': 11,\n",
       " 'for': 12,\n",
       " 'of': 13,\n",
       " 'with': 14,\n",
       " 'was': 15,\n",
       " 'so': 16,\n",
       " 'my': 17,\n",
       " 'dress': 18,\n",
       " 'not': 19,\n",
       " 'that': 20,\n",
       " 'love': 21,\n",
       " 'size': 22,\n",
       " 'very': 23,\n",
       " 'have': 24,\n",
       " 'top': 25,\n",
       " 'fit': 26,\n",
       " 'are': 27,\n",
       " 'like': 28,\n",
       " 'be': 29,\n",
       " 'as': 30,\n",
       " 'me': 31,\n",
       " 'wear': 32,\n",
       " \"it's\": 33,\n",
       " 'great': 34,\n",
       " 'too': 35,\n",
       " \"i'm\": 36,\n",
       " 'or': 37,\n",
       " 'am': 38,\n",
       " 'just': 39,\n",
       " 'you': 40,\n",
       " 'would': 41,\n",
       " 'they': 42,\n",
       " 'up': 43,\n",
       " 'at': 44,\n",
       " 'fabric': 45,\n",
       " 'small': 46,\n",
       " 'color': 47,\n",
       " 'look': 48,\n",
       " 'if': 49,\n",
       " 'more': 50,\n",
       " 'really': 51,\n",
       " 'ordered': 52,\n",
       " 'little': 53,\n",
       " 'perfect': 54,\n",
       " 'will': 55,\n",
       " 'one': 56,\n",
       " 'these': 57,\n",
       " 'flattering': 58,\n",
       " 'well': 59,\n",
       " 'an': 60,\n",
       " 'soft': 61,\n",
       " 'out': 62,\n",
       " 'back': 63,\n",
       " 'because': 64,\n",
       " 'had': 65,\n",
       " 'can': 66,\n",
       " '\\r': 67,\n",
       " 'comfortable': 68,\n",
       " 'cute': 69,\n",
       " 'nice': 70,\n",
       " 'than': 71,\n",
       " 'bought': 72,\n",
       " 'beautiful': 73,\n",
       " 'when': 74,\n",
       " 'all': 75,\n",
       " 'looks': 76,\n",
       " 'bit': 77,\n",
       " 'fits': 78,\n",
       " 'large': 79,\n",
       " 'shirt': 80,\n",
       " 'down': 81,\n",
       " 'which': 82,\n",
       " 'material': 83,\n",
       " 'much': 84,\n",
       " 'them': 85,\n",
       " 'length': 86,\n",
       " 'also': 87,\n",
       " 'sweater': 88,\n",
       " 'has': 89,\n",
       " 'long': 90,\n",
       " 'got': 91,\n",
       " 'jeans': 92,\n",
       " 'colors': 93,\n",
       " 'waist': 94,\n",
       " 'petite': 95,\n",
       " 'quality': 96,\n",
       " 'medium': 97,\n",
       " 'xs': 98,\n",
       " 'pretty': 99,\n",
       " 'think': 100,\n",
       " 'even': 101,\n",
       " 'work': 102,\n",
       " 'retailer': 103,\n",
       " 'tried': 104,\n",
       " 'from': 105,\n",
       " 'store': 106,\n",
       " 'usually': 107,\n",
       " 'other': 108,\n",
       " 'skirt': 109,\n",
       " 'about': 110,\n",
       " 'good': 111,\n",
       " 'made': 112,\n",
       " 'pants': 113,\n",
       " 'short': 114,\n",
       " 'get': 115,\n",
       " 'way': 116,\n",
       " 'only': 117,\n",
       " 'could': 118,\n",
       " 'big': 119,\n",
       " 'cut': 120,\n",
       " 'see': 121,\n",
       " \"don't\": 122,\n",
       " 'black': 123,\n",
       " \"didn't\": 124,\n",
       " 'still': 125,\n",
       " 'were': 126,\n",
       " 'right': 127,\n",
       " 'super': 128,\n",
       " 'there': 129,\n",
       " 'true': 130,\n",
       " 'did': 131,\n",
       " 'runs': 132,\n",
       " 'style': 133,\n",
       " 'do': 134,\n",
       " 'sleeves': 135,\n",
       " 'online': 136,\n",
       " 'no': 137,\n",
       " 'summer': 138,\n",
       " 'purchased': 139,\n",
       " 'white': 140,\n",
       " 'wearing': 141,\n",
       " 'design': 142,\n",
       " 'however': 143,\n",
       " 'does': 144,\n",
       " 'feel': 145,\n",
       " 'off': 146,\n",
       " 'go': 147,\n",
       " 'tight': 148,\n",
       " 'enough': 149,\n",
       " 'perfectly': 150,\n",
       " 'over': 151,\n",
       " 'some': 152,\n",
       " 'model': 153,\n",
       " '4': 154,\n",
       " 'definitely': 155,\n",
       " 'front': 156,\n",
       " 'looked': 157,\n",
       " 'sale': 158,\n",
       " 'though': 159,\n",
       " '2': 160,\n",
       " 'blue': 161,\n",
       " 'price': 162,\n",
       " 'person': 163,\n",
       " 'lbs': 164,\n",
       " 'loved': 165,\n",
       " 'been': 166,\n",
       " 'how': 167,\n",
       " 'what': 168,\n",
       " 'better': 169,\n",
       " 'jacket': 170,\n",
       " 'first': 171,\n",
       " 'fall': 172,\n",
       " 'your': 173,\n",
       " 'body': 174,\n",
       " 'bottom': 175,\n",
       " 'going': 176,\n",
       " 'loose': 177,\n",
       " 'high': 178,\n",
       " 'try': 179,\n",
       " '6': 180,\n",
       " 'worn': 181,\n",
       " 'around': 182,\n",
       " 'time': 183,\n",
       " 'regular': 184,\n",
       " 'looking': 185,\n",
       " 'shape': 186,\n",
       " 'light': 187,\n",
       " 'many': 188,\n",
       " 'both': 189,\n",
       " 'chest': 190,\n",
       " 'thought': 191,\n",
       " 'make': 192,\n",
       " 'lovely': 193,\n",
       " 'arms': 194,\n",
       " 'wanted': 195,\n",
       " 'saw': 196,\n",
       " 'gorgeous': 197,\n",
       " 'piece': 198,\n",
       " 's': 199,\n",
       " 'shoulders': 200,\n",
       " 'casual': 201,\n",
       " 'thin': 202,\n",
       " 'through': 203,\n",
       " 'makes': 204,\n",
       " 'recommend': 205,\n",
       " 'after': 206,\n",
       " 'without': 207,\n",
       " 'bust': 208,\n",
       " \"doesn't\": 209,\n",
       " 'compliments': 210,\n",
       " 'pattern': 211,\n",
       " 'need': 212,\n",
       " 'being': 213,\n",
       " 'went': 214,\n",
       " 'side': 215,\n",
       " 'want': 216,\n",
       " 'run': 217,\n",
       " 'tops': 218,\n",
       " 'found': 219,\n",
       " 'blouse': 220,\n",
       " 'find': 221,\n",
       " 'pair': 222,\n",
       " 'bra': 223,\n",
       " 'sure': 224,\n",
       " 'reviews': 225,\n",
       " 'weight': 226,\n",
       " 'wore': 227,\n",
       " 'wish': 228,\n",
       " \"can't\": 229,\n",
       " 'picture': 230,\n",
       " \"i've\": 231,\n",
       " 'print': 232,\n",
       " 'buy': 233,\n",
       " 'hips': 234,\n",
       " 'since': 235,\n",
       " 'usual': 236,\n",
       " '8': 237,\n",
       " 'dresses': 238,\n",
       " 'normally': 239,\n",
       " 'by': 240,\n",
       " 'order': 241,\n",
       " 'comfy': 242,\n",
       " 'received': 243,\n",
       " 'different': 244,\n",
       " 'its': 245,\n",
       " 'lot': 246,\n",
       " 'while': 247,\n",
       " 'longer': 248,\n",
       " 'm': 249,\n",
       " 'overall': 250,\n",
       " 'any': 251,\n",
       " 'most': 252,\n",
       " 'absolutely': 253,\n",
       " 'may': 254,\n",
       " 'quite': 255,\n",
       " 'fitted': 256,\n",
       " 'detail': 257,\n",
       " 'nicely': 258,\n",
       " 'slightly': 259,\n",
       " 'keep': 260,\n",
       " 'return': 261,\n",
       " 'two': 262,\n",
       " 'day': 263,\n",
       " 'then': 264,\n",
       " '5': 265,\n",
       " 'green': 266,\n",
       " 'felt': 267,\n",
       " 'leggings': 268,\n",
       " 'might': 269,\n",
       " 'red': 270,\n",
       " 'another': 271,\n",
       " 'under': 272,\n",
       " 'underneath': 273,\n",
       " 'wide': 274,\n",
       " 'stretch': 275,\n",
       " 'neck': 276,\n",
       " 'easy': 277,\n",
       " 'unique': 278,\n",
       " 'say': 279,\n",
       " 'now': 280,\n",
       " 'lace': 281,\n",
       " \"wasn't\": 282,\n",
       " 'fun': 283,\n",
       " 'boxy': 284,\n",
       " 'extra': 285,\n",
       " 'probably': 286,\n",
       " 'happy': 287,\n",
       " '10': 288,\n",
       " 'almost': 289,\n",
       " 'sizing': 290,\n",
       " 'actually': 291,\n",
       " 'photo': 292,\n",
       " 'tank': 293,\n",
       " 'something': 294,\n",
       " 'warm': 295,\n",
       " 'sizes': 296,\n",
       " 'low': 297,\n",
       " 'area': 298,\n",
       " 'smaller': 299,\n",
       " 'sheer': 300,\n",
       " 'fine': 301,\n",
       " 'unfortunately': 302,\n",
       " 'flowy': 303,\n",
       " 'pockets': 304,\n",
       " 'dressed': 305,\n",
       " 'purchase': 306,\n",
       " 't': 307,\n",
       " 'worth': 308,\n",
       " 'feels': 309,\n",
       " \"5'4\": 310,\n",
       " 'tee': 311,\n",
       " 'such': 312,\n",
       " 'into': 313,\n",
       " 'glad': 314,\n",
       " 'full': 315,\n",
       " 'every': 316,\n",
       " 'shorter': 317,\n",
       " 'same': 318,\n",
       " 'said': 319,\n",
       " 'between': 320,\n",
       " 'boots': 321,\n",
       " 'tall': 322,\n",
       " 'put': 323,\n",
       " 'give': 324,\n",
       " 'sized': 325,\n",
       " 'yet': 326,\n",
       " 'always': 327,\n",
       " 'tts': 328,\n",
       " 'disappointed': 329,\n",
       " 'reference': 330,\n",
       " 'spring': 331,\n",
       " 'everything': 332,\n",
       " 'buttons': 333,\n",
       " 'navy': 334,\n",
       " 'line': 335,\n",
       " 'denim': 336,\n",
       " 'skinny': 337,\n",
       " 'wait': 338,\n",
       " 'maybe': 339,\n",
       " 'versatile': 340,\n",
       " 'decided': 341,\n",
       " 'larger': 342,\n",
       " 'part': 343,\n",
       " 'neckline': 344,\n",
       " 'adorable': 345,\n",
       " 'liked': 346,\n",
       " 'should': 347,\n",
       " 'huge': 348,\n",
       " 'winter': 349,\n",
       " 'above': 350,\n",
       " 'thick': 351,\n",
       " 'favorite': 352,\n",
       " 'where': 353,\n",
       " 'especially': 354,\n",
       " 'easily': 355,\n",
       " 'fitting': 356,\n",
       " \"i'd\": 357,\n",
       " 'returned': 358,\n",
       " 'problem': 359,\n",
       " 'grey': 360,\n",
       " 'figure': 361,\n",
       " 'shorts': 362,\n",
       " 'pink': 363,\n",
       " 'came': 364,\n",
       " 'details': 365,\n",
       " 'best': 366,\n",
       " 'heavy': 367,\n",
       " 'thing': 368,\n",
       " 'snug': 369,\n",
       " 'wash': 370,\n",
       " 'button': 371,\n",
       " 'seems': 372,\n",
       " \"isn't\": 373,\n",
       " 'take': 374,\n",
       " 'room': 375,\n",
       " 'slip': 376,\n",
       " 'amazing': 377,\n",
       " 'reviewers': 378,\n",
       " 'coat': 379,\n",
       " '3': 380,\n",
       " 'normal': 381,\n",
       " 'lightweight': 382,\n",
       " 'cotton': 383,\n",
       " \"5'3\": 384,\n",
       " 'feminine': 385,\n",
       " 'hem': 386,\n",
       " \"couldn't\": 387,\n",
       " 'tunic': 388,\n",
       " 'pictured': 389,\n",
       " 'know': 390,\n",
       " 'few': 391,\n",
       " 'knee': 392,\n",
       " 'knit': 393,\n",
       " 'l': 394,\n",
       " 'cardigan': 395,\n",
       " 'took': 396,\n",
       " 'kind': 397,\n",
       " 'cami': 398,\n",
       " \"that's\": 399,\n",
       " 'expected': 400,\n",
       " 'dark': 401,\n",
       " 'goes': 402,\n",
       " 'torso': 403,\n",
       " 'hit': 404,\n",
       " 'embroidery': 405,\n",
       " 'belt': 406,\n",
       " '12': 407,\n",
       " 'curvy': 408,\n",
       " 'returning': 409,\n",
       " \"5'5\": 410,\n",
       " 'beautifully': 411,\n",
       " 'reviewer': 412,\n",
       " \"5'2\": 413,\n",
       " 'arm': 414,\n",
       " '0': 415,\n",
       " 'hits': 416,\n",
       " 'extremely': 417,\n",
       " 'xl': 418,\n",
       " 'lined': 419,\n",
       " 'lining': 420,\n",
       " 'show': 421,\n",
       " 'frame': 422,\n",
       " 'typically': 423,\n",
       " 'works': 424,\n",
       " 'once': 425,\n",
       " 'although': 426,\n",
       " 'able': 427,\n",
       " \"i'll\": 428,\n",
       " 'never': 429,\n",
       " 'before': 430,\n",
       " 'excited': 431,\n",
       " 'legs': 432,\n",
       " 'highly': 433,\n",
       " 'washed': 434,\n",
       " 'anything': 435,\n",
       " 'today': 436,\n",
       " 'either': 437,\n",
       " 'someone': 438,\n",
       " 'who': 439,\n",
       " 'year': 440,\n",
       " 'those': 441,\n",
       " 'shown': 442,\n",
       " 'sleeve': 443,\n",
       " 'xxs': 444,\n",
       " 'bad': 445,\n",
       " \"5'7\": 446,\n",
       " 'new': 447,\n",
       " 'ended': 448,\n",
       " 'issue': 449,\n",
       " 'sold': 450,\n",
       " 'photos': 451,\n",
       " 'weather': 452,\n",
       " 'things': 453,\n",
       " 'below': 454,\n",
       " 'already': 455,\n",
       " 'stretchy': 456,\n",
       " 'shoulder': 457,\n",
       " 'trying': 458,\n",
       " \"5'6\": 459,\n",
       " 'cool': 460,\n",
       " \"you're\": 461,\n",
       " 'gray': 462,\n",
       " 'needed': 463,\n",
       " 'type': 464,\n",
       " 'holes': 465,\n",
       " 'agree': 466,\n",
       " 'tie': 467,\n",
       " 'last': 468,\n",
       " 'zipper': 469,\n",
       " 'arrived': 470,\n",
       " 'otherwise': 471,\n",
       " 'hard': 472,\n",
       " 'fell': 473,\n",
       " 'why': 474,\n",
       " 'layer': 475,\n",
       " 'hoping': 476,\n",
       " 'days': 477,\n",
       " 'exactly': 478,\n",
       " 'wardrobe': 479,\n",
       " 'brand': 480,\n",
       " 'cozy': 481,\n",
       " 'orange': 482,\n",
       " 'suit': 483,\n",
       " 'come': 484,\n",
       " 'add': 485,\n",
       " 'due': 486,\n",
       " '26': 487,\n",
       " 'across': 488,\n",
       " 'cheap': 489,\n",
       " 'inches': 490,\n",
       " 'straps': 491,\n",
       " 'vest': 492,\n",
       " 'sadly': 493,\n",
       " 'local': 494,\n",
       " 'hot': 495,\n",
       " 'skin': 496,\n",
       " 'away': 497,\n",
       " 'again': 498,\n",
       " 'swing': 499,\n",
       " 'unflattering': 500,\n",
       " \"5'8\": 501,\n",
       " 'least': 502,\n",
       " 'heels': 503,\n",
       " '1': 504,\n",
       " 'ever': 505,\n",
       " \"wouldn't\": 506,\n",
       " 'tad': 507,\n",
       " 'sides': 508,\n",
       " \"5'\": 509,\n",
       " 'rather': 510,\n",
       " 'keeping': 511,\n",
       " 'open': 512,\n",
       " 'stylish': 513,\n",
       " 'dry': 514,\n",
       " 'getting': 515,\n",
       " 'ran': 516,\n",
       " 'must': 517,\n",
       " 'vibrant': 518,\n",
       " 'classic': 519,\n",
       " \"they're\": 520,\n",
       " 'plan': 521,\n",
       " 'straight': 522,\n",
       " 'baggy': 523,\n",
       " 'slim': 524,\n",
       " 'others': 525,\n",
       " 'pictures': 526,\n",
       " 'several': 527,\n",
       " 'plus': 528,\n",
       " 'delicate': 529,\n",
       " 'pilcro': 530,\n",
       " 'surprised': 531,\n",
       " 'wonderful': 532,\n",
       " 'nothing': 533,\n",
       " 'less': 534,\n",
       " 'pull': 535,\n",
       " 'touch': 536,\n",
       " 'kept': 537,\n",
       " 'pounds': 538,\n",
       " 'ordering': 539,\n",
       " 'item': 540,\n",
       " 'based': 541,\n",
       " 'roomy': 542,\n",
       " 'waisted': 543,\n",
       " 'seem': 544,\n",
       " 'stunning': 545,\n",
       " 'bright': 546,\n",
       " 'yellow': 547,\n",
       " 'simple': 548,\n",
       " 'drapes': 549,\n",
       " 'drape': 550,\n",
       " 'use': 551,\n",
       " 'years': 552,\n",
       " 'shirts': 553,\n",
       " 'cropped': 554,\n",
       " 'hangs': 555,\n",
       " 'sometimes': 556,\n",
       " '27': 557,\n",
       " 'their': 558,\n",
       " 'available': 559,\n",
       " 'itchy': 560,\n",
       " 'worked': 561,\n",
       " 'v': 562,\n",
       " 'paired': 563,\n",
       " 'night': 564,\n",
       " 'review': 565,\n",
       " 'version': 566,\n",
       " 'ankle': 567,\n",
       " 'gives': 568,\n",
       " 'bigger': 569,\n",
       " 'flat': 570,\n",
       " 'instead': 571,\n",
       " 'own': 572,\n",
       " 'myself': 573,\n",
       " 'far': 574,\n",
       " 'skirts': 575,\n",
       " 'seemed': 576,\n",
       " 'tights': 577,\n",
       " 'times': 578,\n",
       " '28': 579,\n",
       " 'here': 580,\n",
       " 'previous': 581,\n",
       " 'buying': 582,\n",
       " 'busty': 583,\n",
       " 'tiny': 584,\n",
       " 'immediately': 585,\n",
       " 'comes': 586,\n",
       " 'oversized': 587,\n",
       " 'special': 588,\n",
       " 'having': 589,\n",
       " 'lots': 590,\n",
       " 'she': 591,\n",
       " 'wedding': 592,\n",
       " 'mine': 593,\n",
       " \"won't\": 594,\n",
       " 'mentioned': 595,\n",
       " 'falls': 596,\n",
       " 'making': 597,\n",
       " 'ivory': 598,\n",
       " 'end': 599,\n",
       " 'adds': 600,\n",
       " 'elastic': 601,\n",
       " \"5'1\": 602,\n",
       " \"5'9\": 603,\n",
       " 'cover': 604,\n",
       " 'staple': 605,\n",
       " 'cold': 606,\n",
       " '115': 607,\n",
       " 'lower': 608,\n",
       " 'season': 609,\n",
       " 'higher': 610,\n",
       " 'athletic': 611,\n",
       " 'completely': 612,\n",
       " 'collar': 613,\n",
       " 'totally': 614,\n",
       " 'sandals': 615,\n",
       " 'booties': 616,\n",
       " 'flare': 617,\n",
       " 'shows': 618,\n",
       " 'mid': 619,\n",
       " 'leg': 620,\n",
       " 'weird': 621,\n",
       " 'texture': 622,\n",
       " 'second': 623,\n",
       " 'form': 624,\n",
       " 'jean': 625,\n",
       " 'knees': 626,\n",
       " 'wool': 627,\n",
       " \"there's\": 628,\n",
       " 'stiff': 629,\n",
       " 'jumpsuit': 630,\n",
       " 'read': 631,\n",
       " 'cream': 632,\n",
       " 'clothes': 633,\n",
       " 'often': 634,\n",
       " 'knew': 635,\n",
       " 'worried': 636,\n",
       " 'ok': 637,\n",
       " 'used': 638,\n",
       " 'curves': 639,\n",
       " 'months': 640,\n",
       " 'finally': 641,\n",
       " 'else': 642,\n",
       " 'neutral': 643,\n",
       " 'people': 644,\n",
       " 'slimming': 645,\n",
       " 'incredibly': 646,\n",
       " 'layering': 647,\n",
       " 'interesting': 648,\n",
       " 'odd': 649,\n",
       " 'thinking': 650,\n",
       " 'eye': 651,\n",
       " 'broad': 652,\n",
       " 'awesome': 653,\n",
       " 'basic': 654,\n",
       " 'similar': 655,\n",
       " 'half': 656,\n",
       " 'linen': 657,\n",
       " 'prefer': 658,\n",
       " '120': 659,\n",
       " 'clothing': 660,\n",
       " 'fact': 661,\n",
       " 'sexy': 662,\n",
       " 'hope': 663,\n",
       " 'throw': 664,\n",
       " 'wrong': 665,\n",
       " 'mind': 666,\n",
       " 'substantial': 667,\n",
       " 'flats': 668,\n",
       " 'hourglass': 669,\n",
       " 'brown': 670,\n",
       " 'bulky': 671,\n",
       " 'inside': 672,\n",
       " 'gotten': 673,\n",
       " 'amount': 674,\n",
       " 'dressy': 675,\n",
       " 'elegant': 676,\n",
       " 'gave': 677,\n",
       " 'deep': 678,\n",
       " 'hip': 679,\n",
       " 'sweaters': 680,\n",
       " 'outfit': 681,\n",
       " 'b': 682,\n",
       " 'upper': 683,\n",
       " 'rich': 684,\n",
       " 'addition': 685,\n",
       " 'closet': 686,\n",
       " 'maternity': 687,\n",
       " 'c': 688,\n",
       " 'next': 689,\n",
       " 'appears': 690,\n",
       " '30': 691,\n",
       " 'armholes': 692,\n",
       " 'flow': 693,\n",
       " 'point': 694,\n",
       " 'couple': 695,\n",
       " 'home': 696,\n",
       " 'reason': 697,\n",
       " 'during': 698,\n",
       " 'close': 699,\n",
       " 'appropriate': 700,\n",
       " 'mail': 701,\n",
       " '25': 702,\n",
       " 'subtle': 703,\n",
       " 'soon': 704,\n",
       " 'justice': 705,\n",
       " 'depending': 706,\n",
       " '135': 707,\n",
       " 'except': 708,\n",
       " '34b': 709,\n",
       " 'tell': 710,\n",
       " 'her': 711,\n",
       " 'washing': 712,\n",
       " 'stripes': 713,\n",
       " 'expect': 714,\n",
       " 'thicker': 715,\n",
       " 'thighs': 716,\n",
       " 'rise': 717,\n",
       " 'somewhat': 718,\n",
       " 'until': 719,\n",
       " 'detailing': 720,\n",
       " 'sad': 721,\n",
       " 'colored': 722,\n",
       " 'left': 723,\n",
       " 'nude': 724,\n",
       " 'peplum': 725,\n",
       " 'baby': 726,\n",
       " 'hang': 727,\n",
       " 'complaint': 728,\n",
       " 'pant': 729,\n",
       " 'hand': 730,\n",
       " 'seam': 731,\n",
       " 'silk': 732,\n",
       " 'purple': 733,\n",
       " 'yes': 734,\n",
       " 'forward': 735,\n",
       " 'case': 736,\n",
       " 'pleased': 737,\n",
       " '34c': 738,\n",
       " 'exchange': 739,\n",
       " 'build': 740,\n",
       " '125': 741,\n",
       " 'cannot': 742,\n",
       " '140': 743,\n",
       " 'w': 744,\n",
       " 'perhaps': 745,\n",
       " 'looser': 746,\n",
       " 'anyway': 747,\n",
       " 'idea': 748,\n",
       " 'tent': 749,\n",
       " 'expecting': 750,\n",
       " 'hold': 751,\n",
       " 'fairly': 752,\n",
       " 'product': 753,\n",
       " 'bodice': 754,\n",
       " 'place': 755,\n",
       " 'flows': 756,\n",
       " 'taller': 757,\n",
       " \"haven't\": 758,\n",
       " 'fan': 759,\n",
       " 'middle': 760,\n",
       " 'everywhere': 761,\n",
       " 'together': 762,\n",
       " '130': 763,\n",
       " 'darker': 764,\n",
       " 'bottoms': 765,\n",
       " 'deal': 766,\n",
       " 'blazer': 767,\n",
       " 'hung': 768,\n",
       " 'classy': 769,\n",
       " 'real': 770,\n",
       " 'maeve': 771,\n",
       " 'truly': 772,\n",
       " 'awkward': 773,\n",
       " 'added': 774,\n",
       " 'slight': 775,\n",
       " 'pieces': 776,\n",
       " 'along': 777,\n",
       " 'barely': 778,\n",
       " 'floral': 779,\n",
       " 'spot': 780,\n",
       " 'narrow': 781,\n",
       " 'inch': 782,\n",
       " 'gold': 783,\n",
       " 'zip': 784,\n",
       " 'office': 785,\n",
       " 'typical': 786,\n",
       " 'gone': 787,\n",
       " 'fabulous': 788,\n",
       " 'sweatshirt': 789,\n",
       " 'heavier': 790,\n",
       " 'motif': 791,\n",
       " 'butt': 792,\n",
       " 'chic': 793,\n",
       " 'old': 794,\n",
       " 'three': 795,\n",
       " 'band': 796,\n",
       " 'feeling': 797,\n",
       " 'opinion': 798,\n",
       " 'sort': 799,\n",
       " 'items': 800,\n",
       " '34': 801,\n",
       " 'imagine': 802,\n",
       " 'tag': 803,\n",
       " 'fantastic': 804,\n",
       " 'romper': 805,\n",
       " 'live': 806,\n",
       " 'issues': 807,\n",
       " 'past': 808,\n",
       " 'pulled': 809,\n",
       " 'noticed': 810,\n",
       " 'waistband': 811,\n",
       " 'anyone': 812,\n",
       " 'tummy': 813,\n",
       " 'whole': 814,\n",
       " 'showing': 815,\n",
       " 'we': 816,\n",
       " '34d': 817,\n",
       " 'stitching': 818,\n",
       " 'seen': 819,\n",
       " 'reading': 820,\n",
       " 'itself': 821,\n",
       " 'seams': 822,\n",
       " 'belly': 823,\n",
       " 'places': 824,\n",
       " 'unless': 825,\n",
       " '14': 826,\n",
       " 'meant': 827,\n",
       " 'leather': 828,\n",
       " 'lay': 829,\n",
       " 'sewn': 830,\n",
       " 'pairs': 831,\n",
       " 'chested': 832,\n",
       " 'styling': 833,\n",
       " 'strange': 834,\n",
       " 'says': 835,\n",
       " 'needs': 836,\n",
       " 'running': 837,\n",
       " 'each': 838,\n",
       " 'comfort': 839,\n",
       " 'coverage': 840,\n",
       " 'weekend': 841,\n",
       " 'lighter': 842,\n",
       " '100': 843,\n",
       " \"5'10\": 844,\n",
       " 'party': 845,\n",
       " 'generally': 846,\n",
       " 'women': 847,\n",
       " '29': 848,\n",
       " 'transition': 849,\n",
       " 'scratchy': 850,\n",
       " 'excellent': 851,\n",
       " 'rest': 852,\n",
       " 'necklace': 853,\n",
       " 'please': 854,\n",
       " 'done': 855,\n",
       " 'clingy': 856,\n",
       " 'relaxed': 857,\n",
       " 'husband': 858,\n",
       " 'believe': 859,\n",
       " 'stay': 860,\n",
       " 'pregnant': 861,\n",
       " 'wider': 862,\n",
       " 'stars': 863,\n",
       " 'glove': 864,\n",
       " 'beach': 865,\n",
       " 'frumpy': 866,\n",
       " 'height': 867,\n",
       " 'caught': 868,\n",
       " 'girls': 869,\n",
       " 'cup': 870,\n",
       " 'tucked': 871,\n",
       " 'difficult': 872,\n",
       " 'slender': 873,\n",
       " 'portion': 874,\n",
       " 'ago': 875,\n",
       " \"aren't\": 876,\n",
       " 'dinner': 877,\n",
       " 'chance': 878,\n",
       " 'lines': 879,\n",
       " 'sack': 880,\n",
       " 'airy': 881,\n",
       " 'help': 882,\n",
       " 'coral': 883,\n",
       " 'girl': 884,\n",
       " 'finding': 885,\n",
       " 'seasons': 886,\n",
       " 'forgiving': 887,\n",
       " 'bag': 888,\n",
       " 'house': 889,\n",
       " 'slits': 890,\n",
       " 'plenty': 891,\n",
       " 'shaped': 892,\n",
       " 'silhouette': 893,\n",
       " 'expensive': 894,\n",
       " 'care': 895,\n",
       " 'simply': 896,\n",
       " 'tailored': 897,\n",
       " 'maxi': 898,\n",
       " 'clean': 899,\n",
       " 'everyone': 900,\n",
       " 'money': 901,\n",
       " 'camisole': 902,\n",
       " 'd': 903,\n",
       " '39': 904,\n",
       " 'description': 905,\n",
       " 'prettier': 906,\n",
       " 'keeper': 907,\n",
       " 'stock': 908,\n",
       " 'p': 909,\n",
       " 'stomach': 910,\n",
       " 'solid': 911,\n",
       " '36': 912,\n",
       " 'pear': 913,\n",
       " 'pleats': 914,\n",
       " 'hide': 915,\n",
       " 'swingy': 916,\n",
       " 'silky': 917,\n",
       " 'etc': 918,\n",
       " 'option': 919,\n",
       " '38': 920,\n",
       " 'wow': 921,\n",
       " 'cooler': 922,\n",
       " 'shade': 923,\n",
       " 'structured': 924,\n",
       " 'guess': 925,\n",
       " 'life': 926,\n",
       " '40': 927,\n",
       " 'thigh': 928,\n",
       " 'adore': 929,\n",
       " 'given': 930,\n",
       " 'hanging': 931,\n",
       " 'average': 932,\n",
       " 'natural': 933,\n",
       " 'despite': 934,\n",
       " 'send': 935,\n",
       " 'website': 936,\n",
       " 'ladies': 937,\n",
       " 'round': 938,\n",
       " 'wrinkle': 939,\n",
       " 'note': 940,\n",
       " 'yesterday': 941,\n",
       " 'hole': 942,\n",
       " 'beige': 943,\n",
       " 'purchasing': 944,\n",
       " 'plaid': 945,\n",
       " 'uncomfortable': 946,\n",
       " 'polyester': 947,\n",
       " 'pencil': 948,\n",
       " 'considering': 949,\n",
       " 'disappointing': 950,\n",
       " 'originally': 951,\n",
       " 'jackets': 952,\n",
       " '32': 953,\n",
       " 'plain': 954,\n",
       " 'daughter': 955,\n",
       " 'surprise': 956,\n",
       " 'dressing': 957,\n",
       " 'ruffle': 958,\n",
       " 'recently': 959,\n",
       " 'layered': 960,\n",
       " 'beading': 961,\n",
       " 'patterns': 962,\n",
       " 'oh': 963,\n",
       " '36c': 964,\n",
       " 'afraid': 965,\n",
       " 'flowers': 966,\n",
       " 'sit': 967,\n",
       " 'ag': 968,\n",
       " 'hanger': 969,\n",
       " 'shapeless': 970,\n",
       " 'flowing': 971,\n",
       " 'pass': 972,\n",
       " 'pricey': 973,\n",
       " 'designed': 974,\n",
       " 'layers': 975,\n",
       " 'ways': 976,\n",
       " 'poor': 977,\n",
       " 'us': 978,\n",
       " 'swimming': 979,\n",
       " 'tend': 980,\n",
       " 'sent': 981,\n",
       " 'week': 982,\n",
       " 'pay': 983,\n",
       " 'sweet': 984,\n",
       " 'covers': 985,\n",
       " 'pale': 986,\n",
       " 'hides': 987,\n",
       " 'holiday': 988,\n",
       " 'stretched': 989,\n",
       " 'slit': 990,\n",
       " 'let': 991,\n",
       " 'snag': 992,\n",
       " 'stated': 993,\n",
       " 'okay': 994,\n",
       " 'twice': 995,\n",
       " 'everyday': 996,\n",
       " 'coming': 997,\n",
       " 'machine': 998,\n",
       " 'flares': 999,\n",
       " 'receive': 1000,\n",
       " ...}"
      ]
     },
     "execution_count": 64,
     "metadata": {},
     "output_type": "execute_result"
    }
   ],
   "source": [
    "tokenizer.word_index"
   ]
  },
  {
   "cell_type": "code",
   "execution_count": 65,
   "metadata": {
    "id": "ozBK5t7_yabB"
   },
   "outputs": [
    {
     "data": {
      "text/plain": [
       "14847"
      ]
     },
     "execution_count": 65,
     "metadata": {},
     "output_type": "execute_result"
    }
   ],
   "source": [
    "len(tokenizer.word_index) # Unique token sayısı"
   ]
  },
  {
   "cell_type": "markdown",
   "metadata": {
    "id": "8BgD95SgyabC"
   },
   "source": [
    "### Converting tokens to numeric"
   ]
  },
  {
   "cell_type": "code",
   "execution_count": 60,
   "metadata": {
    "id": "bgyYCVMeyabD"
   },
   "outputs": [],
   "source": [
    "X_num_tokens = tokenizer.texts_to_sequences(X)  # text i sayısal dizine dönüştürdük"
   ]
  },
  {
   "cell_type": "code",
   "execution_count": 69,
   "metadata": {
    "id": "0L6LpsuqyabE"
   },
   "outputs": [
    {
     "data": {
      "text/plain": [
       "\"This dress is simply beautiful and stunning. it is so figure flattering and i can't wait to wear it. size small worked for me, and since i'm tall it fell right to my ankle which is perfect for me. i could not be happier with the purchase and the keyhole in the back is a beautiful detail.\""
      ]
     },
     "execution_count": 69,
     "metadata": {},
     "output_type": "execute_result"
    }
   ],
   "source": [
    "X[60]"
   ]
  },
  {
   "cell_type": "code",
   "execution_count": 71,
   "metadata": {},
   "outputs": [
    {
     "name": "stdout",
     "output_type": "stream",
     "text": [
      "[7, 18, 6, 896, 73, 3, 545, 5, 6, 16, 361, 58, 3, 2, 229, 338, 8, 32, 5, 22, 46, 561, 12, 31, 3, 235, 36, 322, 5, 473, 127, 8, 17, 567, 82, 6, 54, 12, 31, 2, 118, 19, 29, 1545, 14, 1, 306, 3, 1, 2217, 9, 1, 63, 6, 4, 73, 257]\n"
     ]
    }
   ],
   "source": [
    "print(X_num_tokens[60])"
   ]
  },
  {
   "cell_type": "markdown",
   "metadata": {
    "id": "Rj9JkageyabE"
   },
   "source": [
    "### Maximum number of tokens for all documents¶"
   ]
  },
  {
   "cell_type": "code",
   "execution_count": 72,
   "metadata": {
    "id": "cEGs4NkGyabF"
   },
   "outputs": [
    {
     "data": {
      "text/plain": [
       "57"
      ]
     },
     "execution_count": 72,
     "metadata": {},
     "output_type": "execute_result"
    }
   ],
   "source": [
    "len(X_num_tokens[60])"
   ]
  },
  {
   "cell_type": "code",
   "execution_count": 73,
   "metadata": {
    "id": "qpHWEnkvyabG"
   },
   "outputs": [],
   "source": [
    "num_tokens = [len(tokens) for tokens in X_num_tokens]\n",
    "num_tokens = np.array(num_tokens)"
   ]
  },
  {
   "cell_type": "code",
   "execution_count": 75,
   "metadata": {},
   "outputs": [
    {
     "data": {
      "text/plain": [
       "57"
      ]
     },
     "execution_count": 75,
     "metadata": {},
     "output_type": "execute_result"
    }
   ],
   "source": [
    "num_tokens[60]"
   ]
  },
  {
   "cell_type": "code",
   "execution_count": 76,
   "metadata": {},
   "outputs": [
    {
     "data": {
      "text/plain": [
       "116"
      ]
     },
     "execution_count": 76,
     "metadata": {},
     "output_type": "execute_result"
    }
   ],
   "source": [
    "num_tokens.max()"
   ]
  },
  {
   "cell_type": "code",
   "execution_count": 77,
   "metadata": {},
   "outputs": [
    {
     "data": {
      "text/plain": [
       "16263"
      ]
     },
     "execution_count": 77,
     "metadata": {},
     "output_type": "execute_result"
    }
   ],
   "source": [
    "num_tokens.argmax()"
   ]
  },
  {
   "cell_type": "code",
   "execution_count": 94,
   "metadata": {},
   "outputs": [],
   "source": [
    "max_tokens = 104"
   ]
  },
  {
   "cell_type": "code",
   "execution_count": 95,
   "metadata": {},
   "outputs": [
    {
     "data": {
      "text/plain": [
       "0.9708935117706815"
      ]
     },
     "execution_count": 95,
     "metadata": {},
     "output_type": "execute_result"
    }
   ],
   "source": [
    "sum(num_tokens < max_tokens) / len(num_tokens)"
   ]
  },
  {
   "cell_type": "code",
   "execution_count": 96,
   "metadata": {},
   "outputs": [
    {
     "data": {
      "text/plain": [
       "21982"
      ]
     },
     "execution_count": 96,
     "metadata": {},
     "output_type": "execute_result"
    }
   ],
   "source": [
    "sum(num_tokens < max_tokens)"
   ]
  },
  {
   "cell_type": "code",
   "execution_count": 97,
   "metadata": {},
   "outputs": [
    {
     "data": {
      "text/plain": [
       "22641"
      ]
     },
     "execution_count": 97,
     "metadata": {},
     "output_type": "execute_result"
    }
   ],
   "source": [
    "len(num_tokens)"
   ]
  },
  {
   "cell_type": "markdown",
   "metadata": {
    "id": "uy1B4hK-yabG"
   },
   "source": [
    "### Fixing token counts of all documents (pad_sequences)"
   ]
  },
  {
   "cell_type": "code",
   "execution_count": 98,
   "metadata": {
    "id": "_iWx4UIMyabH"
   },
   "outputs": [],
   "source": [
    "X_pad = pad_sequences(X_num_tokens, maxlen=max_tokens)"
   ]
  },
  {
   "cell_type": "code",
   "execution_count": 99,
   "metadata": {
    "id": "_dhsOUyPyabI"
   },
   "outputs": [
    {
     "data": {
      "text/plain": [
       "(22641, 104)"
      ]
     },
     "execution_count": 99,
     "metadata": {},
     "output_type": "execute_result"
    }
   ],
   "source": [
    "X_pad.shape"
   ]
  },
  {
   "cell_type": "markdown",
   "metadata": {
    "id": "pDncmu1XyabI"
   },
   "source": [
    "### Train Set Split"
   ]
  },
  {
   "cell_type": "code",
   "execution_count": 340,
   "metadata": {
    "id": "zqsRIshXyabJ"
   },
   "outputs": [],
   "source": [
    "from sklearn.model_selection import train_test_split"
   ]
  },
  {
   "cell_type": "code",
   "execution_count": 341,
   "metadata": {
    "id": "c0S3dNtLyabJ"
   },
   "outputs": [],
   "source": [
    "X_train, X_test, y_train, y_test = train_test_split(X_pad, y, test_size=0.2, stratify=y, random_state=101)"
   ]
  },
  {
   "cell_type": "markdown",
   "metadata": {
    "id": "dNgzp1YlyabJ"
   },
   "source": [
    "### Modeling"
   ]
  },
  {
   "cell_type": "code",
   "execution_count": 342,
   "metadata": {},
   "outputs": [],
   "source": [
    "embedding_size = 100"
   ]
  },
  {
   "cell_type": "code",
   "execution_count": 343,
   "metadata": {},
   "outputs": [],
   "source": [
    "from tensorflow.keras.layers import BatchNormalization"
   ]
  },
  {
   "cell_type": "code",
   "execution_count": 344,
   "metadata": {
    "id": "coscTq6fyabK"
   },
   "outputs": [],
   "source": [
    "model = Sequential()\n",
    "model.add(Embedding(input_dim=num_words,\n",
    "                    output_dim=embedding_size,\n",
    "                    input_length=max_tokens))\n",
    "\n",
    "model.add(Dropout(0.5))\n",
    "model.add(GRU(units=36, return_sequences=True))\n",
    "model.add(Dropout(0.5))\n",
    "\n",
    "model.add(GRU(units=24, return_sequences=True))\n",
    "model.add(Dropout(0.2))\n",
    "\n",
    "model.add(GRU(units=18, return_sequences=True))\n",
    "model.add(Dropout(0.2))\n",
    "model.add(GRU(units=9))\n",
    "\n",
    "model.add(Dense(1, activation='sigmoid'))"
   ]
  },
  {
   "cell_type": "code",
   "execution_count": 345,
   "metadata": {
    "id": "OB4exQP0yabK"
   },
   "outputs": [],
   "source": [
    "optimizer = Adam(learning_rate=0.005)"
   ]
  },
  {
   "cell_type": "code",
   "execution_count": 346,
   "metadata": {},
   "outputs": [],
   "source": [
    "model.compile(loss='binary_crossentropy',\n",
    "              optimizer=optimizer,\n",
    "              metrics=['Recall'])"
   ]
  },
  {
   "cell_type": "code",
   "execution_count": 347,
   "metadata": {},
   "outputs": [
    {
     "name": "stdout",
     "output_type": "stream",
     "text": [
      "Model: \"sequential_16\"\n",
      "_________________________________________________________________\n",
      " Layer (type)                Output Shape              Param #   \n",
      "=================================================================\n",
      " embedding_16 (Embedding)    (None, 104, 100)          1000000   \n",
      "                                                                 \n",
      " dropout_37 (Dropout)        (None, 104, 100)          0         \n",
      "                                                                 \n",
      " gru_50 (GRU)                (None, 104, 36)           14904     \n",
      "                                                                 \n",
      " dropout_38 (Dropout)        (None, 104, 36)           0         \n",
      "                                                                 \n",
      " gru_51 (GRU)                (None, 104, 24)           4464      \n",
      "                                                                 \n",
      " dropout_39 (Dropout)        (None, 104, 24)           0         \n",
      "                                                                 \n",
      " gru_52 (GRU)                (None, 104, 18)           2376      \n",
      "                                                                 \n",
      " dropout_40 (Dropout)        (None, 104, 18)           0         \n",
      "                                                                 \n",
      " gru_53 (GRU)                (None, 9)                 783       \n",
      "                                                                 \n",
      " dense_16 (Dense)            (None, 1)                 10        \n",
      "                                                                 \n",
      "=================================================================\n",
      "Total params: 1,022,537\n",
      "Trainable params: 1,022,537\n",
      "Non-trainable params: 0\n",
      "_________________________________________________________________\n"
     ]
    }
   ],
   "source": [
    "model.summary() "
   ]
  },
  {
   "cell_type": "code",
   "execution_count": 348,
   "metadata": {},
   "outputs": [],
   "source": [
    "from tensorflow.keras.callbacks import EarlyStopping\n",
    "\n",
    "early_stop = EarlyStopping(monitor=\"val_recall\", mode=\"max\", \n",
    "                           verbose=1, patience = 1, restore_best_weights=True)"
   ]
  },
  {
   "cell_type": "code",
   "execution_count": 349,
   "metadata": {},
   "outputs": [
    {
     "data": {
      "text/plain": [
       "array([0.61061291, 2.76013411])"
      ]
     },
     "execution_count": 349,
     "metadata": {},
     "output_type": "execute_result"
    }
   ],
   "source": [
    "from sklearn.utils import class_weight\n",
    "classes_weights = class_weight.compute_sample_weight(class_weight='balanced', y=y_train)\n",
    "pd.Series(classes_weights).unique()"
   ]
  },
  {
   "cell_type": "code",
   "execution_count": 350,
   "metadata": {},
   "outputs": [
    {
     "name": "stdout",
     "output_type": "stream",
     "text": [
      "Epoch 1/12\n",
      "71/71 [==============================] - 99s 1s/step - loss: 0.4927 - recall: 0.7784 - val_loss: 0.4557 - val_recall: 0.9220\n",
      "Epoch 2/12\n",
      "71/71 [==============================] - ETA: 0s - loss: 0.3102 - recall: 0.9006Restoring model weights from the end of the best epoch: 1.\n",
      "71/71 [==============================] - 68s 958ms/step - loss: 0.3102 - recall: 0.9006 - val_loss: 0.3094 - val_recall: 0.7927\n",
      "Epoch 2: early stopping\n"
     ]
    },
    {
     "data": {
      "text/plain": [
       "<keras.callbacks.History at 0x1e50b941640>"
      ]
     },
     "execution_count": 350,
     "metadata": {},
     "output_type": "execute_result"
    }
   ],
   "source": [
    "model.fit(X_train, y_train, epochs=12, batch_size=256, sample_weight= classes_weights,\n",
    "         validation_data=(X_test, y_test), callbacks=[early_stop])"
   ]
  },
  {
   "cell_type": "markdown",
   "metadata": {},
   "source": [
    "## Model evaluation"
   ]
  },
  {
   "cell_type": "code",
   "execution_count": 351,
   "metadata": {},
   "outputs": [
    {
     "data": {
      "text/html": [
       "<div>\n",
       "<style scoped>\n",
       "    .dataframe tbody tr th:only-of-type {\n",
       "        vertical-align: middle;\n",
       "    }\n",
       "\n",
       "    .dataframe tbody tr th {\n",
       "        vertical-align: top;\n",
       "    }\n",
       "\n",
       "    .dataframe thead th {\n",
       "        text-align: right;\n",
       "    }\n",
       "</style>\n",
       "<table border=\"1\" class=\"dataframe\">\n",
       "  <thead>\n",
       "    <tr style=\"text-align: right;\">\n",
       "      <th></th>\n",
       "      <th>loss</th>\n",
       "      <th>recall</th>\n",
       "      <th>val_loss</th>\n",
       "      <th>val_recall</th>\n",
       "    </tr>\n",
       "  </thead>\n",
       "  <tbody>\n",
       "    <tr>\n",
       "      <th>0</th>\n",
       "      <td>0.492747</td>\n",
       "      <td>0.778421</td>\n",
       "      <td>0.455693</td>\n",
       "      <td>0.921951</td>\n",
       "    </tr>\n",
       "    <tr>\n",
       "      <th>1</th>\n",
       "      <td>0.310244</td>\n",
       "      <td>0.900640</td>\n",
       "      <td>0.309433</td>\n",
       "      <td>0.792683</td>\n",
       "    </tr>\n",
       "  </tbody>\n",
       "</table>\n",
       "</div>"
      ],
      "text/plain": [
       "       loss    recall  val_loss  val_recall\n",
       "0  0.492747  0.778421  0.455693    0.921951\n",
       "1  0.310244  0.900640  0.309433    0.792683"
      ]
     },
     "execution_count": 351,
     "metadata": {},
     "output_type": "execute_result"
    }
   ],
   "source": [
    "model_loss = pd.DataFrame(model.history.history)\n",
    "model_loss.head()"
   ]
  },
  {
   "cell_type": "code",
   "execution_count": 352,
   "metadata": {},
   "outputs": [
    {
     "data": {
      "text/plain": [
       "<AxesSubplot:>"
      ]
     },
     "execution_count": 352,
     "metadata": {},
     "output_type": "execute_result"
    },
    {
     "data": {
      "image/png": "[encoded data removed]",
      "text/plain": [
       "<Figure size 720x432 with 1 Axes>"
      ]
     },
     "metadata": {
      "needs_background": "light"
     },
     "output_type": "display_data"
    }
   ],
   "source": [
    "model_loss.plot()"
   ]
  },
  {
   "cell_type": "code",
   "execution_count": 353,
   "metadata": {},
   "outputs": [
    {
     "name": "stdout",
     "output_type": "stream",
     "text": [
      "142/142 [==============================] - 13s 88ms/step - loss: 0.4557 - recall: 0.9220\n"
     ]
    },
    {
     "data": {
      "text/plain": [
       "[0.4556933641433716, 0.9219512343406677]"
      ]
     },
     "execution_count": 353,
     "metadata": {},
     "output_type": "execute_result"
    }
   ],
   "source": [
    "model.evaluate(X_test, y_test)"
   ]
  },
  {
   "cell_type": "code",
   "execution_count": 354,
   "metadata": {},
   "outputs": [
    {
     "name": "stdout",
     "output_type": "stream",
     "text": [
      "566/566 [==============================] - 51s 90ms/step - loss: 0.4023 - recall: 0.9555\n"
     ]
    },
    {
     "data": {
      "text/plain": [
       "[0.4023408591747284, 0.95550137758255]"
      ]
     },
     "execution_count": 354,
     "metadata": {},
     "output_type": "execute_result"
    }
   ],
   "source": [
    "model.evaluate(X_train, y_train)"
   ]
  },
  {
   "cell_type": "code",
   "execution_count": null,
   "metadata": {},
   "outputs": [],
   "source": [
    "from sklearn.metrics import confusion_matrix, classification_report, accuracy_score, f1_score, roc_auc_score\n",
    "\n",
    "y_pred = model.predict(X_test) >= 0.5\n",
    "\n",
    "print(confusion_matrix(y_test, y_pred))\n",
    "print(\"-------------------------------------------------------\")\n",
    "print(classification_report(y_test, y_pred))"
   ]
  },
  {
   "cell_type": "code",
   "execution_count": null,
   "metadata": {},
   "outputs": [],
   "source": [
    "y_train_pred = model.predict(X_train) >= 0.5\n",
    "\n",
    "print(confusion_matrix(y_train, y_train_pred))\n",
    "print(\"-------------------------------------------------------\")\n",
    "print(classification_report(y_train, y_train_pred))"
   ]
  },
  {
   "cell_type": "code",
   "execution_count": null,
   "metadata": {},
   "outputs": [],
   "source": [
    "from sklearn.metrics import precision_recall_curve, average_precision_score\n",
    "import matplotlib.pyplot as plt\n",
    "\n",
    "y_pred_proba = model.predict(X_test)\n",
    "precision, recall, thresholds = precision_recall_curve(y_test, y_pred_proba)\n",
    "plt.plot([1,0],[0,1],'k--')\n",
    "plt.plot(recall, precision)\n",
    "plt.xlabel('recall')\n",
    "plt.ylabel('precision')\n",
    "plt.title('precision recall curve')\n",
    "plt.show()"
   ]
  },
  {
   "cell_type": "code",
   "execution_count": null,
   "metadata": {},
   "outputs": [],
   "source": [
    "average_precision_score(y_test, y_pred_proba)"
   ]
  },
  {
   "cell_type": "code",
   "execution_count": null,
   "metadata": {},
   "outputs": [],
   "source": [
    "#model.save('sentiment_projectDL_model.h5')"
   ]
  },
  {
   "cell_type": "code",
   "execution_count": null,
   "metadata": {},
   "outputs": [],
   "source": []
  },
  {
   "cell_type": "code",
   "execution_count": null,
   "metadata": {},
   "outputs": [],
   "source": []
  },
  {
   "cell_type": "markdown",
   "metadata": {
    "id": "90psEuqfyabK"
   },
   "source": [
    "## BERT Modeling"
   ]
  },
  {
   "cell_type": "code",
   "execution_count": null,
   "metadata": {
    "id": "7jOXjgWtyabL"
   },
   "outputs": [],
   "source": []
  },
  {
   "cell_type": "code",
   "execution_count": null,
   "metadata": {
    "id": "Ype7yLKOyabL"
   },
   "outputs": [],
   "source": []
  },
  {
   "cell_type": "markdown",
   "metadata": {
    "id": "ux_iaGqlyabL"
   },
   "source": [
    "### Tokenization"
   ]
  },
  {
   "cell_type": "code",
   "execution_count": null,
   "metadata": {
    "id": "zApTMyZAyabM"
   },
   "outputs": [],
   "source": []
  },
  {
   "cell_type": "code",
   "execution_count": null,
   "metadata": {
    "id": "Ti_HMgv-O0hP"
   },
   "outputs": [],
   "source": []
  },
  {
   "cell_type": "markdown",
   "metadata": {
    "id": "2DRmOt6kO2Cr"
   },
   "source": [
    "### Train test split"
   ]
  },
  {
   "cell_type": "code",
   "execution_count": null,
   "metadata": {
    "id": "fMh01UkEyabM"
   },
   "outputs": [],
   "source": []
  },
  {
   "cell_type": "markdown",
   "metadata": {
    "id": "4pu5teiDyabM"
   },
   "source": [
    "### Transformation text to tensor"
   ]
  },
  {
   "cell_type": "code",
   "execution_count": null,
   "metadata": {
    "id": "JjufdfhryabN"
   },
   "outputs": [],
   "source": []
  },
  {
   "cell_type": "code",
   "execution_count": null,
   "metadata": {
    "id": "t7UcEY1syabN"
   },
   "outputs": [],
   "source": []
  },
  {
   "cell_type": "code",
   "execution_count": null,
   "metadata": {
    "id": "qpREU78cyabW"
   },
   "outputs": [],
   "source": []
  },
  {
   "cell_type": "markdown",
   "metadata": {
    "id": "K8c-hlqCPJY2"
   },
   "source": [
    "### Batch Size"
   ]
  },
  {
   "cell_type": "code",
   "execution_count": null,
   "metadata": {
    "id": "CT5OATB4PITT"
   },
   "outputs": [],
   "source": []
  },
  {
   "cell_type": "code",
   "execution_count": null,
   "metadata": {
    "id": "QPGbr0tGPIf9"
   },
   "outputs": [],
   "source": []
  },
  {
   "cell_type": "markdown",
   "metadata": {
    "id": "5QPfdcqdyabX"
   },
   "source": [
    "### Creating Model"
   ]
  },
  {
   "cell_type": "code",
   "execution_count": null,
   "metadata": {
    "id": "eNt0Mo6QyabX"
   },
   "outputs": [],
   "source": []
  },
  {
   "cell_type": "code",
   "execution_count": null,
   "metadata": {
    "id": "cEtMIXv2yabX"
   },
   "outputs": [],
   "source": []
  },
  {
   "cell_type": "code",
   "execution_count": null,
   "metadata": {
    "id": "SCyJKZ8IyabY"
   },
   "outputs": [],
   "source": []
  },
  {
   "cell_type": "code",
   "execution_count": null,
   "metadata": {
    "id": "SrC2_jJsyabY"
   },
   "outputs": [],
   "source": []
  },
  {
   "cell_type": "code",
   "execution_count": null,
   "metadata": {
    "id": "rMYMHALCyabZ"
   },
   "outputs": [],
   "source": []
  },
  {
   "cell_type": "code",
   "execution_count": null,
   "metadata": {
    "id": "fccgYh-eyabZ"
   },
   "outputs": [],
   "source": []
  },
  {
   "cell_type": "code",
   "execution_count": null,
   "metadata": {
    "id": "765MIgPoyaba"
   },
   "outputs": [],
   "source": []
  },
  {
   "cell_type": "markdown",
   "metadata": {
    "id": "-1ffMrzzyaba"
   },
   "source": [
    "### Model evaluation"
   ]
  },
  {
   "cell_type": "code",
   "execution_count": null,
   "metadata": {
    "id": "veJ3S964yabb"
   },
   "outputs": [],
   "source": []
  },
  {
   "cell_type": "code",
   "execution_count": null,
   "metadata": {
    "id": "X6wnuC81yabb"
   },
   "outputs": [],
   "source": []
  },
  {
   "cell_type": "markdown",
   "metadata": {
    "id": "Hdc5JYOXCV4A"
   },
   "source": [
    "### Compare Models F1 Scores, Recall Scores and Average Precision Score"
   ]
  },
  {
   "cell_type": "code",
   "execution_count": null,
   "metadata": {
    "id": "v0NYuHKNyabd"
   },
   "outputs": [],
   "source": []
  },
  {
   "cell_type": "code",
   "execution_count": null,
   "metadata": {
    "id": "KVjW_XLyyabd"
   },
   "outputs": [],
   "source": []
  },
  {
   "cell_type": "code",
   "execution_count": null,
   "metadata": {
    "id": "wXU-Yov1yabd"
   },
   "outputs": [],
   "source": []
  },
  {
   "cell_type": "code",
   "execution_count": null,
   "metadata": {
    "id": "zoeKmJwEyabe"
   },
   "outputs": [],
   "source": []
  },
  {
   "cell_type": "markdown",
   "metadata": {
    "id": "mfUL4ZaXCV4A"
   },
   "source": [
    "### Conclusion"
   ]
  },
  {
   "cell_type": "code",
   "execution_count": null,
   "metadata": {
    "id": "gtY0hTdRCV4A"
   },
   "outputs": [],
   "source": []
  },
  {
   "cell_type": "markdown",
   "metadata": {
    "id": "epg2QSwryabf"
   },
   "source": [
    "___\n",
    "\n",
    "<p style=\"text-align: center;\"><img src=\"https://docs.google.com/uc?id=1lY0Uj5R04yMY3-ZppPWxqCr5pvBLYPnV\" class=\"img-fluid\" alt=\"CLRSWY\"></p>\n",
    "\n",
    "___"
   ]
  }
 ],
 "metadata": {
  "colab": {
   "collapsed_sections": [],
   "provenance": []
  },
  "kernelspec": {
   "display_name": "Python 3 (ipykernel)",
   "language": "python",
   "name": "python3"
  },
  "language_info": {
   "codemirror_mode": {
    "name": "ipython",
    "version": 3
   },
   "file_extension": ".py",
   "mimetype": "text/x-python",
   "name": "python",
   "nbconvert_exporter": "python",
   "pygments_lexer": "ipython3",
   "version": "3.9.7"
  }
 },
 "nbformat": 4,
 "nbformat_minor": 1
}
